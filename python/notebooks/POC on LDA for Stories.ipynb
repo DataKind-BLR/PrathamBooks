{
 "cells": [
  {
   "cell_type": "code",
   "execution_count": 1,
   "metadata": {},
   "outputs": [
    {
     "name": "stderr",
     "output_type": "stream",
     "text": [
      "C:\\Users\\mailt\\Anaconda3\\lib\\site-packages\\gensim\\utils.py:1209: UserWarning: detected Windows; aliasing chunkize to chunkize_serial\n",
      "  warnings.warn(\"detected Windows; aliasing chunkize to chunkize_serial\")\n"
     ]
    }
   ],
   "source": [
    "from gensim import corpora, models"
   ]
  },
  {
   "cell_type": "code",
   "execution_count": 13,
   "metadata": {},
   "outputs": [],
   "source": [
    "import numpy as np"
   ]
  },
  {
   "cell_type": "code",
   "execution_count": 37,
   "metadata": {},
   "outputs": [],
   "source": [
    "story1 = \"A fawn was racing in the forest.He was ahead of the rabbit.He was ahead of the elephant.He leapt and cleared the stream.He ran past the crumbling wall.There was a large boulder on the grassy plain. He stumbled and fell down.He burst into tears.The monkey massaged his leg. Tears flowed from the fawn's eyes.Brother Bear picked him up. The fawn didn't stop crying.His mother came. She said, Look, we’ll beat up this bad boulder! The fawn said, Oh, don’t do that or he will also start crying. His mother laughed. So did the fawn.\"\n",
    "story2 = \"This is a fat king. The fat king has a thin dog. The fat king and his thin dog go for a walk. The dog sees a bird. The dog runs after the bird. The king runs after the dog. They run and run. They run and run for many days. The king catches the dog. Now the fat king is thin.\"\n",
    "story3 = \"Everytime I finish my hot, hot bath, My wet body feels so cool, cool cool. Who makes that happen? Vayu the Wind! The milk in my cup is too hot, too hot. But soon it is ready for me to gulp. Who makes that happen? Vayu the Wind! The window curtains flutter And gently brush my face. Who makes it happen? Vayu, the Wind! A bolt of lightning far away. Black clouds moving my way. Who makes that happen? Vayu, the Wind! Branches sway and leaves tremble. Flowers gently fall. Who did it all? Vayu, the Wind! Far from the house, we are playing, Yet, I can smell the sweets mother is preparing. Who makes it happen? Vayu, the Wind! A glass tumbler on a window sill, Crashes on the ground. Thank God, I was not around. Who played this mischief? Of course, it was Vayu, the Wind! A whistle blows. A train rolls in. I cannot see, but I hear its din. Who makes that happen? Vayu, the Wind! Cannot be seen Cannot be heard Does all the work Without a word. Who can it be? Of course! The wind! Vayu, the wind!\"\n",
    "story4 = \"Chuskit woke up early that morning. It was a very specialÂ day and she was too excited toÂ sleep. She eagerly looked outÂ of the room through the window next to her bed. It was spring time in Ladakh and the apricot trees were inÂ full bloom. Two magpies hadÂ already begun their day and were busy looking for insectsÂ to eat. Her Ama-ley was awakeÂ too. She could hear her in theÂ kitchen making gur-gur tea. Chuskit had been awake for the last hour. This was a day she was going to remember for a long time. Can you guess why? No, it was not Losar, the NewÂ Year festival. That was manyÂ months away. Nor was it anyÂ special day in her village, likeÂ the gonpa festival, or a wedding day. Today was going to be Chuskit's first day at school. At nine years, she had waitedÂ a long, long time for this. The school was not very far away from her home. To get there, you had to walk up to the main road. Just before the prayer wheel, you took the path to the left of the road that ran along a narrowÂ stream. Near the poplar treesÂ you crossed the stream by jumping over the big rocks. Once you got to the other side, a short walk up a slope took you to the school. All the children of Skitpo Yul, Chuskit's village, walked to school everyday and with ease. But not little Chuskit. She had a disability and could not walk. Chuskit was born with legs that did not work like everyoneÂ elseâ€™s. Her father had taken herÂ to the village amchi and then to the doctors in Leh. But noÂ amount of medicine had helped her walk. At first, Chuskit did not realise that she was in any way different from the StobdanÂ her younger brother, or her cousins. But soon there were many things she could not do as easily as them. â€œThat does not matter,â€ her Aba-ley would tell her whenever she felt sad. â€œYou can stitch better than any of them. And you draw very well.â€ Aba-ley often brought her some colour pencils from Leh. Chuskit would sit at the kitchen window everyday and draw what she saw while herÂ Ama-ley cooked. She could see her family's animals beingÂ taken to graze every morning. She could see the blue watersÂ of the stream that flowed nearÂ by. And she would be the firstÂ one to announce the arrival of a visitor to their house! Chuskit used a chair fitted withÂ wheels to move around. EldersÂ called it a wheelchair. You could move it in any direction- forward, left, right andÂ even backward - by moving the wheels with your hands. You only needed to have really strong arms to push the weight of your body and the chair. When Aba-ley first brought the wheelchair home, everyone in her family was very excited. â€œNow I wonâ€™t have to carry Chuskit everywhere. I can wheel her around,â€ said Ama-ley, with tears of happiness in her eyes. â€œAnd I will be able to go wherever I want!â€ cried ChuskitÂ excitedly. â€œPlease, please, could I ride on your wheelchair once in a way?â€ begged Stobdan. He wanted to wheel it aroundÂ too. It looked like fun. Billa, theÂ big black cat, jumped on to the wheel-chair and stretched across the seat. â€œYes this is far more comfortable thanÂ the sack cloth I sleep on,â€ she purred. Slowly, Chuskit learnt to use her wheelchair. She would askÂ her mother to seat her in theÂ wheelchair outside her homeÂ every evening. From here she would watch children returning from school, chattering and laughing merrily in groups. In a while, the evening bus would return from Leh, bringing back people from work and the market place. How much more exciting the world was from here than from the kitchen window! One evening when Chuskit was sitting outside theÂ house with her grandfather, a young boy came upÂ to her. He carried a letter which he handed over to her grandfather. â€œJulley! The bus driver asked me to give this to you,â€ he said. â€œMy name is Abdul,â€ he said turning to Chuskit. â€œI study Class 6 at the Government School. I have often wondered why you donâ€™t come to school.â€ â€œJulley, Abdul,â€ said Chuskit. â€œI have never been to school. The path to the school is too uneven and pebbly and my wheelchair will get stuck. Besides, I cannot cross the little stream in front of the school. It would be very difficult for my parents to carry me to school and back everyday.â€ â€œBut would you like to come to school?â€ asked Abdul. â€œOf course!â€ replied Chuskit. â€œIÂ hear my younger brother talkÂ of all that he does at school. I want to study like all of you,Â make friends, play games, wear a uniform and even writeÂ exams. Sometimes my brother teaches me songs that he hasÂ learnt at school and I love it. You may not believe this, but IÂ sometimes dream of carrying aÂ school bag, even eating packedÂ lunch...â€ â€œEnough! Enough!â€ interrupted her grandfather. â€œStop dreaming, Chuskit. You know you cannot go to school. I have told you this many times. Learn as much as you can at home.â€ â€œMeme-ley, please,â€ pleaded Chuskit softly with tears in herÂ eyes as her grandfather walkedÂ away angrily. â€œMeme-ley does not understand how I feel,â€ said Chuskit. â€œI remember the day my brother recited his tables with such pride, even the time he learned to read! My parents were very happy as they have never been to school. I too want to learn to read and do math. Do you understand?â€ â€œI do,â€ said Abdul. â€œChuskit, I will see you again. I must go now. My mother will be waitingÂ for me. Julley!â€ The next day, Abdul went straight to the Headmasterâ€™s room after assembly. â€œJulley, Azhang-ley!â€ he said. â€œI want to talk to you about a girl from our village who does not go to school. Her name is Chuskit. She is Stobdanâ€™s sister.â€ â€œOh yes,â€ replied the Headmaster. â€œI know her. She is disabled, isnâ€™t she?â€ â€œYes, Azhang-ley. She uses a wheelchair to moveÂ around but cannot reach school, as the path from her home is too rough and uneven. I was wondering if we could do anything to help her, Azhang-ley. We could all get together and level the path and also build a small bridge across the stream.â€ â€œThatâ€™s very thoughtful of you, Abdul,â€ said theÂ Headmaster as he patted him on the back. â€œWhatÂ made you think of Chuskit and her problems?â€ â€œAzhang-ley, last week we read about the fundamental rights of citizens in our civics class.Â All children have a right to education. That includes Chuskit as well, does it not?â€ â€œYes, you are right, Abdul. Let me discuss this with the other teachers,â€ replied the Headmaster. The next day the Headmaster called all the teachers to a meeting. He shared Abdulâ€™s ideas with the group and asked the teachers what they felt. â€œImpossible!â€ said one of them. â€œHow can we have a disabled child in our school? How will she be able to write, play and go to the toilet like theÂ other children do?â€ â€œThat's exactly what we have to workout,â€ said the Headmaster. â€œI hear that inÂ the village of Mentok Yul, the Village Education Committee has helped build a special toilet for one of their disabled children. We could ask them what they have done. But first we will have to get Chuskit to school. Then we could think of ways of helping her do things in school.â€ Two weeks later there was great excitement at the Government School. All the children had gathered outside in the playground. They had come to school without their school bags: there were going to be no classes today! The teachers divided the children into groups. One group worked in front of Chuskit's house and another on the path alongÂ the stream. A third group with some of the older children worked hard to help some of their teachers build a strong wooden bridge across the stream. The children laughed and sang as they removed stonesÂ and rocks, levelled paths andÂ carried wooden planks to theÂ stream. The Headmaster wentÂ from one group to another, making sure that all went according to plan. Chuskitâ€™s parents provided everyone with hot tea and biscuits. Chuskitâ€™s grandfather sat  under a willow tree by the stream watching the busy school children. â€œI  never dreamt Iâ€™d see a day like this!â€ he thought to himself as he  wiped a tear that rolled down his cheek. At the end of the day it was a tired but happy group of children that returned to their homes. The path fromÂ Chuskitâ€™s home to the schoolÂ was now ready! Chuskit was going to school for the first time in her life. And that's why she was so excited! Words used in the story that may be new to you: Aba-ley: Father Ama-ley: Mother Meme-ley: Grandfather Amchi: A local doctor who has been trained inÂ Tibetan medicine. Azhang-ley: Term used with respect for an elderly man. Gonpa: Buddhist monastery Gur-gur tea: Butter tea that is made in a long cylindrical wooden vessel. The tea is churned withÂ butter, salt and milk in this vessel. A low gur-gurÂ noise is produced during churning. Julley: Term used as a greeting: hello, goodbye.\"\n",
    "story_corpus = [story1, story2, story3, story4]"
   ]
  },
  {
   "cell_type": "code",
   "execution_count": 38,
   "metadata": {},
   "outputs": [],
   "source": [
    "from nltk.corpus import stopwords \n",
    "from nltk.stem.wordnet import WordNetLemmatizer\n",
    "import string\n",
    "stop = set(stopwords.words('english'))\n",
    "exclude = set(string.punctuation) \n",
    "lemma = WordNetLemmatizer()\n",
    "def clean(doc):\n",
    "    stop_free = \" \".join([i for i in doc.lower().split() if i not in stop])\n",
    "    punc_free = ''.join(ch for ch in stop_free if ch not in exclude)\n",
    "    normalized = \" \".join(lemma.lemmatize(word) for word in punc_free.split())\n",
    "    return normalized\n",
    "\n",
    "story_clean = [clean(story).split() for story in story_corpus]"
   ]
  },
  {
   "cell_type": "code",
   "execution_count": 34,
   "metadata": {},
   "outputs": [],
   "source": [
    "import gensim\n",
    "from gensim import corpora\n",
    "\n",
    "# Creating the term dictionary of our courpus, where every unique term is assigned an index. \n",
    "dictionary = corpora.Dictionary(story_clean)\n",
    "\n",
    "# Converting list of documents (corpus) into Document Term Matrix using dictionary prepared above.\n",
    "story_term_matrix = [dictionary.doc2bow(story) for story in story_clean]"
   ]
  },
  {
   "cell_type": "code",
   "execution_count": 39,
   "metadata": {},
   "outputs": [],
   "source": [
    "# Creating the object for LDA model using gensim library\n",
    "Lda = gensim.models.ldamodel.LdaModel\n",
    "\n",
    "# Running and Trainign LDA model on the document term matrix.\n",
    "ldamodel = Lda(story_term_matrix, num_topics=4, id2word = dictionary, passes=50)"
   ]
  },
  {
   "cell_type": "code",
   "execution_count": 40,
   "metadata": {},
   "outputs": [
    {
     "name": "stdout",
     "output_type": "stream",
     "text": [
      "[(0, '0.002*\"day\" + 0.002*\"go\" + 0.002*\"walk\"'), (1, '0.028*\"fawn\" + 0.012*\"mother\" + 0.012*\"ahead\"'), (2, '0.029*\"school\" + 0.024*\"chuskit\" + 0.013*\"child\"'), (3, '0.038*\"wind\" + 0.034*\"vayu\" + 0.023*\"make\"')]\n"
     ]
    }
   ],
   "source": [
    "print(ldamodel.print_topics(num_topics=4, num_words=3))"
   ]
  }
 ],
 "metadata": {
  "kernelspec": {
   "display_name": "Python 3",
   "language": "python",
   "name": "python3"
  },
  "language_info": {
   "codemirror_mode": {
    "name": "ipython",
    "version": 3
   },
   "file_extension": ".py",
   "mimetype": "text/x-python",
   "name": "python",
   "nbconvert_exporter": "python",
   "pygments_lexer": "ipython3",
   "version": "3.6.4"
  }
 },
 "nbformat": 4,
 "nbformat_minor": 2
}

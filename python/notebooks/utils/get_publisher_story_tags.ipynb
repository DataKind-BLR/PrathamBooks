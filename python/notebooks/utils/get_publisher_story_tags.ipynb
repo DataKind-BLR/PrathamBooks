{
 "cells": [
  {
   "cell_type": "code",
   "execution_count": 3,
   "metadata": {},
   "outputs": [],
   "source": [
    "import pandas as pd\n",
    "import nltk\n",
    "import math"
   ]
  },
  {
   "cell_type": "code",
   "execution_count": 2,
   "metadata": {},
   "outputs": [],
   "source": [
    "ENGLISH_ONLY_STORIES_FILE = 'stories_content_english_corrected.csv'\n",
    "TAGS_FILE = 'stories_tags.csv'"
   ]
  },
  {
   "cell_type": "code",
   "execution_count": 7,
   "metadata": {},
   "outputs": [],
   "source": [
    "def is_english(word):\n",
    "    return word in nltk.corpus.words.words()\n",
    "\n",
    "def is_single_word(word):\n",
    "    return word.find(' ') == -1\n",
    "\n",
    "\n",
    "def get_tags(story_file=ENGLISH_ONLY_STORIES_FILE, tag_file=TAGS_FILE):\n",
    "    story_data = pd.read_csv(ENGLISH_ONLY_STORIES_FILE)\n",
    "    tag_data = pd.read_csv(TAGS_FILE)\n",
    "    pub_stories = story_data.loc[story_data['story_publishing_type'] == 'Publisher Story']\n",
    "    pub_story_ids = pub_stories['story_id'].tolist()\n",
    "    pub_tag_data = tag_data.loc[tag_data['story_id'].isin(pub_story_ids)]\n",
    "    \n",
    "    single_word_tags = set()\n",
    "    story_tag_dict = {}\n",
    "    \n",
    "    for i, row in pub_tag_data.iterrows():\n",
    "        tag = row['story_tag_name']\n",
    "        if type(tag) == float and math.isnan(tag):\n",
    "            continue\n",
    "        if row['story_title'] not in story_tag_dict:\n",
    "            story_tag_dict[row['story_title']] = []\n",
    "\n",
    "        if is_english(tag) and is_single_word(tag):\n",
    "            story_tag_dict[row['story_title']].append(tag.lower())\n",
    "            single_word_tags.add(tag.lower())\n",
    "\n",
    "    return single_word_tags\n"
   ]
  }
 ],
 "metadata": {
  "kernelspec": {
   "display_name": "Python 3",
   "language": "python",
   "name": "python3"
  },
  "language_info": {
   "codemirror_mode": {
    "name": "ipython",
    "version": 3
   },
   "file_extension": ".py",
   "mimetype": "text/x-python",
   "name": "python",
   "nbconvert_exporter": "python",
   "pygments_lexer": "ipython3",
   "version": "3.6.6"
  }
 },
 "nbformat": 4,
 "nbformat_minor": 2
}

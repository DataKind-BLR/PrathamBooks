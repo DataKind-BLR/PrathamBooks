{
 "cells": [
  {
   "cell_type": "markdown",
   "metadata": {},
   "source": [
    "# POC to determine top key words in stories using TF-IDF"
   ]
  },
  {
   "cell_type": "code",
   "execution_count": 3,
   "metadata": {},
   "outputs": [],
   "source": [
    "#Import required libraries\n",
    "import nltk\n",
    "import pandas as pd"
   ]
  },
  {
   "cell_type": "code",
   "execution_count": 27,
   "metadata": {},
   "outputs": [],
   "source": [
    "from nltk.corpus import RegexpTokenizer as regextoken\n",
    "from nltk.corpus import stopwords\n",
    "from nltk.stem.wordnet import WordNetLemmatizer\n",
    "from nltk.stem.porter import PorterStemmer\n",
    "from nltk.stem.snowball import SnowballStemmer"
   ]
  },
  {
   "cell_type": "code",
   "execution_count": 4,
   "metadata": {},
   "outputs": [],
   "source": [
    "#Load the merged file\n",
    "storycontentdata = pd.read_csv(\"stories_content.csv\")"
   ]
  },
  {
   "cell_type": "code",
   "execution_count": 11,
   "metadata": {},
   "outputs": [
    {
     "data": {
      "text/plain": [
       "(7880, 17)"
      ]
     },
     "execution_count": 11,
     "metadata": {},
     "output_type": "execute_result"
    }
   ],
   "source": [
    "storycontentdata.shape"
   ]
  },
  {
   "cell_type": "code",
   "execution_count": 15,
   "metadata": {},
   "outputs": [],
   "source": [
    "#Filter english stories\n",
    "englishstories = storycontentdata[storycontentdata[\"language_name\"] == \"English\"]"
   ]
  },
  {
   "cell_type": "code",
   "execution_count": 17,
   "metadata": {},
   "outputs": [
    {
     "data": {
      "text/html": [
       "<div>\n",
       "<style scoped>\n",
       "    .dataframe tbody tr th:only-of-type {\n",
       "        vertical-align: middle;\n",
       "    }\n",
       "\n",
       "    .dataframe tbody tr th {\n",
       "        vertical-align: top;\n",
       "    }\n",
       "\n",
       "    .dataframe thead th {\n",
       "        text-align: right;\n",
       "    }\n",
       "</style>\n",
       "<table border=\"1\" class=\"dataframe\">\n",
       "  <thead>\n",
       "    <tr style=\"text-align: right;\">\n",
       "      <th></th>\n",
       "      <th>story_id</th>\n",
       "      <th>story_title</th>\n",
       "      <th>story_english_title</th>\n",
       "      <th>is_child_created_story</th>\n",
       "      <th>stories_status</th>\n",
       "      <th>stories_summary</th>\n",
       "      <th>ancestry</th>\n",
       "      <th>is_recommended_story</th>\n",
       "      <th>reads</th>\n",
       "      <th>language_name</th>\n",
       "      <th>organization_name</th>\n",
       "      <th>page_id</th>\n",
       "      <th>page_type</th>\n",
       "      <th>story_derivation_type</th>\n",
       "      <th>story_publishing_type</th>\n",
       "      <th>reading_level_cat</th>\n",
       "      <th>story_content</th>\n",
       "    </tr>\n",
       "  </thead>\n",
       "  <tbody>\n",
       "    <tr>\n",
       "      <th>1</th>\n",
       "      <td>2</td>\n",
       "      <td>Smile Please!</td>\n",
       "      <td>Smile Please!</td>\n",
       "      <td>f</td>\n",
       "      <td>1</td>\n",
       "      <td>Follow the young deer as he races along with f...</td>\n",
       "      <td>1</td>\n",
       "      <td>t</td>\n",
       "      <td>13368</td>\n",
       "      <td>English</td>\n",
       "      <td>Pratham Books</td>\n",
       "      <td>16</td>\n",
       "      <td>StoryPage</td>\n",
       "      <td>Translated</td>\n",
       "      <td>Publisher Story</td>\n",
       "      <td>Level 1</td>\n",
       "      <td>A fawn was racing in the forest.He was ahead o...</td>\n",
       "    </tr>\n",
       "    <tr>\n",
       "      <th>5</th>\n",
       "      <td>7</td>\n",
       "      <td>Fat King Thin Dog</td>\n",
       "      <td>Fat King Thin Dog</td>\n",
       "      <td>f</td>\n",
       "      <td>1</td>\n",
       "      <td>Run along with the Fat King after the Thin Dog!</td>\n",
       "      <td>NaN</td>\n",
       "      <td>t</td>\n",
       "      <td>17504</td>\n",
       "      <td>English</td>\n",
       "      <td>Pratham Books</td>\n",
       "      <td>88</td>\n",
       "      <td>StoryPage</td>\n",
       "      <td>original</td>\n",
       "      <td>Publisher Story</td>\n",
       "      <td>Level 1</td>\n",
       "      <td>This is a fat king.The fat king has a thin dog...</td>\n",
       "    </tr>\n",
       "    <tr>\n",
       "      <th>14</th>\n",
       "      <td>16</td>\n",
       "      <td>Vayu, the Wind</td>\n",
       "      <td>Vayu, the Wind</td>\n",
       "      <td>f</td>\n",
       "      <td>1</td>\n",
       "      <td>A nice story about this silent and always pres...</td>\n",
       "      <td>15</td>\n",
       "      <td>t</td>\n",
       "      <td>361</td>\n",
       "      <td>English</td>\n",
       "      <td>Pratham Books</td>\n",
       "      <td>179</td>\n",
       "      <td>StoryPage</td>\n",
       "      <td>Translated</td>\n",
       "      <td>Publisher Story</td>\n",
       "      <td>Level 2</td>\n",
       "      <td>Everytime I finish my hot, hot bath,My wet bod...</td>\n",
       "    </tr>\n",
       "    <tr>\n",
       "      <th>16</th>\n",
       "      <td>21</td>\n",
       "      <td>Chuskit Goes to School!</td>\n",
       "      <td>Chuskit Goes to School!</td>\n",
       "      <td>f</td>\n",
       "      <td>1</td>\n",
       "      <td>Nine year old Chuskit longed to go to school, ...</td>\n",
       "      <td>NaN</td>\n",
       "      <td>t</td>\n",
       "      <td>2391</td>\n",
       "      <td>English</td>\n",
       "      <td>Pratham Books</td>\n",
       "      <td>250</td>\n",
       "      <td>StoryPage</td>\n",
       "      <td>original</td>\n",
       "      <td>Publisher Story</td>\n",
       "      <td>Level 3</td>\n",
       "      <td>Chuskit woke up early that morning. It was a v...</td>\n",
       "    </tr>\n",
       "    <tr>\n",
       "      <th>18</th>\n",
       "      <td>33</td>\n",
       "      <td>Not Now, Not Now!</td>\n",
       "      <td>Not Now, Not Now!</td>\n",
       "      <td>f</td>\n",
       "      <td>1</td>\n",
       "      <td>The little boy in this story wants to do somet...</td>\n",
       "      <td>NaN</td>\n",
       "      <td>t</td>\n",
       "      <td>1850</td>\n",
       "      <td>English</td>\n",
       "      <td>Pratham Books</td>\n",
       "      <td>405</td>\n",
       "      <td>StoryPage</td>\n",
       "      <td>original</td>\n",
       "      <td>Publisher Story</td>\n",
       "      <td>Level 1</td>\n",
       "      <td>I asked Ajji, “May I please have some laddoos...</td>\n",
       "    </tr>\n",
       "  </tbody>\n",
       "</table>\n",
       "</div>"
      ],
      "text/plain": [
       "    story_id              story_title      story_english_title  \\\n",
       "1          2            Smile Please!            Smile Please!   \n",
       "5          7        Fat King Thin Dog        Fat King Thin Dog   \n",
       "14        16           Vayu, the Wind           Vayu, the Wind   \n",
       "16        21  Chuskit Goes to School!  Chuskit Goes to School!   \n",
       "18        33        Not Now, Not Now!        Not Now, Not Now!   \n",
       "\n",
       "   is_child_created_story  stories_status  \\\n",
       "1                       f               1   \n",
       "5                       f               1   \n",
       "14                      f               1   \n",
       "16                      f               1   \n",
       "18                      f               1   \n",
       "\n",
       "                                      stories_summary ancestry  \\\n",
       "1   Follow the young deer as he races along with f...        1   \n",
       "5     Run along with the Fat King after the Thin Dog!      NaN   \n",
       "14  A nice story about this silent and always pres...       15   \n",
       "16  Nine year old Chuskit longed to go to school, ...      NaN   \n",
       "18  The little boy in this story wants to do somet...      NaN   \n",
       "\n",
       "   is_recommended_story  reads language_name organization_name  page_id  \\\n",
       "1                     t  13368       English     Pratham Books       16   \n",
       "5                     t  17504       English     Pratham Books       88   \n",
       "14                    t    361       English     Pratham Books      179   \n",
       "16                    t   2391       English     Pratham Books      250   \n",
       "18                    t   1850       English     Pratham Books      405   \n",
       "\n",
       "    page_type story_derivation_type story_publishing_type reading_level_cat  \\\n",
       "1   StoryPage            Translated       Publisher Story           Level 1   \n",
       "5   StoryPage              original       Publisher Story           Level 1   \n",
       "14  StoryPage            Translated       Publisher Story           Level 2   \n",
       "16  StoryPage              original       Publisher Story           Level 3   \n",
       "18  StoryPage              original       Publisher Story           Level 1   \n",
       "\n",
       "                                        story_content  \n",
       "1   A fawn was racing in the forest.He was ahead o...  \n",
       "5   This is a fat king.The fat king has a thin dog...  \n",
       "14  Everytime I finish my hot, hot bath,My wet bod...  \n",
       "16  Chuskit woke up early that morning. It was a v...  \n",
       "18   I asked Ajji, “May I please have some laddoos...  "
      ]
     },
     "execution_count": 17,
     "metadata": {},
     "output_type": "execute_result"
    }
   ],
   "source": [
    "englishstories.head()"
   ]
  },
  {
   "cell_type": "code",
   "execution_count": 18,
   "metadata": {},
   "outputs": [
    {
     "data": {
      "text/plain": [
       "(1889, 17)"
      ]
     },
     "execution_count": 18,
     "metadata": {},
     "output_type": "execute_result"
    }
   ],
   "source": [
    "englishstories.shape"
   ]
  },
  {
   "cell_type": "markdown",
   "metadata": {},
   "source": [
    "## Explore with first english story to determine top words "
   ]
  },
  {
   "cell_type": "code",
   "execution_count": 107,
   "metadata": {},
   "outputs": [],
   "source": [
    "#Get first story content\n",
    "contentstory1 = englishstories.story_content[1]"
   ]
  },
  {
   "cell_type": "code",
   "execution_count": 108,
   "metadata": {},
   "outputs": [
    {
     "data": {
      "text/plain": [
       "\"A fawn was racing in the forest.He was ahead of the rabbit.He was ahead of the elephant.He leapt and cleared the stream.He ran past the crumbling wall.There was a large boulder on the grassy plain. He stumbled and fell down.He burst into tears.The monkey massaged his leg. Tears flowed from the fawn's eyes.Brother Bear picked him up. The fawn didn't stop crying.His mother came. She said, “Look, we’ll beat up this bad boulder!”\\u2029The fawn said, “Oh, don’t do that or he will also start crying.” His mother laughed. So did the fawn.\\u2029\""
      ]
     },
     "execution_count": 108,
     "metadata": {},
     "output_type": "execute_result"
    }
   ],
   "source": [
    "contentstory1"
   ]
  },
  {
   "cell_type": "code",
   "execution_count": 24,
   "metadata": {},
   "outputs": [
    {
     "data": {
      "text/plain": [
       "532"
      ]
     },
     "execution_count": 24,
     "metadata": {},
     "output_type": "execute_result"
    }
   ],
   "source": [
    "len(contentstory1)"
   ]
  },
  {
   "cell_type": "code",
   "execution_count": 26,
   "metadata": {},
   "outputs": [
    {
     "name": "stdout",
     "output_type": "stream",
     "text": [
      "['A', 'fawn', 'was', 'racing', 'in', 'the', 'forest.He', 'was', 'ahead', 'of', 'the', 'rabbit.He', 'was', 'ahead', 'of', 'the', 'elephant.He', 'leapt', 'and', 'cleared', 'the', 'stream.He', 'ran', 'past', 'the', 'crumbling', 'wall.There', 'was', 'a', 'large', 'boulder', 'on', 'the', 'grassy', 'plain', '.', 'He', 'stumbled', 'and', 'fell', 'down.He', 'burst', 'into', 'tears.The', 'monkey', 'massaged', 'his', 'leg', '.', 'Tears', 'flowed', 'from', 'the', 'fawn', \"'s\", 'eyes.Brother', 'Bear', 'picked', 'him', 'up', '.', 'The', 'fawn', 'did', \"n't\", 'stop', 'crying.His', 'mother', 'came', '.', 'She', 'said', ',', '“', 'Look', ',', 'we', '’', 'll', 'beat', 'up', 'this', 'bad', 'boulder', '!', '”', 'The', 'fawn', 'said', ',', '“', 'Oh', ',', 'don', '’', 't', 'do', 'that', 'or', 'he', 'will', 'also', 'start', 'crying.', '”', 'His', 'mother', 'laughed', '.', 'So', 'did', 'the', 'fawn', '.']\n"
     ]
    }
   ],
   "source": [
    "#Tokenize the first story\n",
    "tokens = nltk.tokenize.word_tokenize(contentstory1)\n",
    "print(tokens)"
   ]
  },
  {
   "cell_type": "code",
   "execution_count": 28,
   "metadata": {},
   "outputs": [
    {
     "name": "stdout",
     "output_type": "stream",
     "text": [
      "['A', 'fawn', 'was', 'racing', 'in', 'the', 'forest', 'He', 'was', 'ahead', 'of', 'the', 'rabbit', 'He', 'was', 'ahead', 'of', 'the', 'elephant', 'He']\n"
     ]
    }
   ],
   "source": [
    "#Tokenize first story using RegexpTokenizer\n",
    "from nltk.corpus import RegexpTokenizer as regextoken\n",
    "tokenizer = regextoken(r'\\w+')\n",
    "tokens = tokenizer.tokenize(contentstory1)\n",
    "print(tokens[:20])"
   ]
  },
  {
   "cell_type": "code",
   "execution_count": 29,
   "metadata": {},
   "outputs": [
    {
     "name": "stdout",
     "output_type": "stream",
     "text": [
      "['a', 'fawn', 'was', 'racing', 'in', 'the', 'forest', 'he', 'was', 'ahead', 'of', 'the', 'rabbit', 'he', 'was', 'ahead', 'of', 'the', 'elephant', 'he']\n"
     ]
    }
   ],
   "source": [
    "#Convert tokens to lower case\n",
    "tokens = [token.lower() for token in tokens] # Converting list of token to lower case\n",
    "print(tokens[:20])"
   ]
  },
  {
   "cell_type": "code",
   "execution_count": 30,
   "metadata": {},
   "outputs": [
    {
     "data": {
      "text/plain": [
       "{'a',\n",
       " 'about',\n",
       " 'above',\n",
       " 'after',\n",
       " 'again',\n",
       " 'against',\n",
       " 'ain',\n",
       " 'all',\n",
       " 'am',\n",
       " 'an',\n",
       " 'and',\n",
       " 'any',\n",
       " 'are',\n",
       " 'aren',\n",
       " \"aren't\",\n",
       " 'as',\n",
       " 'at',\n",
       " 'be',\n",
       " 'because',\n",
       " 'been',\n",
       " 'before',\n",
       " 'being',\n",
       " 'below',\n",
       " 'between',\n",
       " 'both',\n",
       " 'but',\n",
       " 'by',\n",
       " 'can',\n",
       " 'couldn',\n",
       " \"couldn't\",\n",
       " 'd',\n",
       " 'did',\n",
       " 'didn',\n",
       " \"didn't\",\n",
       " 'do',\n",
       " 'does',\n",
       " 'doesn',\n",
       " \"doesn't\",\n",
       " 'doing',\n",
       " 'don',\n",
       " \"don't\",\n",
       " 'down',\n",
       " 'during',\n",
       " 'each',\n",
       " 'few',\n",
       " 'for',\n",
       " 'from',\n",
       " 'further',\n",
       " 'had',\n",
       " 'hadn',\n",
       " \"hadn't\",\n",
       " 'has',\n",
       " 'hasn',\n",
       " \"hasn't\",\n",
       " 'have',\n",
       " 'haven',\n",
       " \"haven't\",\n",
       " 'having',\n",
       " 'he',\n",
       " 'her',\n",
       " 'here',\n",
       " 'hers',\n",
       " 'herself',\n",
       " 'him',\n",
       " 'himself',\n",
       " 'his',\n",
       " 'how',\n",
       " 'i',\n",
       " 'if',\n",
       " 'in',\n",
       " 'into',\n",
       " 'is',\n",
       " 'isn',\n",
       " \"isn't\",\n",
       " 'it',\n",
       " \"it's\",\n",
       " 'its',\n",
       " 'itself',\n",
       " 'just',\n",
       " 'll',\n",
       " 'm',\n",
       " 'ma',\n",
       " 'me',\n",
       " 'mightn',\n",
       " \"mightn't\",\n",
       " 'more',\n",
       " 'most',\n",
       " 'mustn',\n",
       " \"mustn't\",\n",
       " 'my',\n",
       " 'myself',\n",
       " 'needn',\n",
       " \"needn't\",\n",
       " 'no',\n",
       " 'nor',\n",
       " 'not',\n",
       " 'now',\n",
       " 'o',\n",
       " 'of',\n",
       " 'off',\n",
       " 'on',\n",
       " 'once',\n",
       " 'only',\n",
       " 'or',\n",
       " 'other',\n",
       " 'our',\n",
       " 'ours',\n",
       " 'ourselves',\n",
       " 'out',\n",
       " 'over',\n",
       " 'own',\n",
       " 're',\n",
       " 's',\n",
       " 'same',\n",
       " 'shan',\n",
       " \"shan't\",\n",
       " 'she',\n",
       " \"she's\",\n",
       " 'should',\n",
       " \"should've\",\n",
       " 'shouldn',\n",
       " \"shouldn't\",\n",
       " 'so',\n",
       " 'some',\n",
       " 'such',\n",
       " 't',\n",
       " 'than',\n",
       " 'that',\n",
       " \"that'll\",\n",
       " 'the',\n",
       " 'their',\n",
       " 'theirs',\n",
       " 'them',\n",
       " 'themselves',\n",
       " 'then',\n",
       " 'there',\n",
       " 'these',\n",
       " 'they',\n",
       " 'this',\n",
       " 'those',\n",
       " 'through',\n",
       " 'to',\n",
       " 'too',\n",
       " 'under',\n",
       " 'until',\n",
       " 'up',\n",
       " 've',\n",
       " 'very',\n",
       " 'was',\n",
       " 'wasn',\n",
       " \"wasn't\",\n",
       " 'we',\n",
       " 'were',\n",
       " 'weren',\n",
       " \"weren't\",\n",
       " 'what',\n",
       " 'when',\n",
       " 'where',\n",
       " 'which',\n",
       " 'while',\n",
       " 'who',\n",
       " 'whom',\n",
       " 'why',\n",
       " 'will',\n",
       " 'with',\n",
       " 'won',\n",
       " \"won't\",\n",
       " 'wouldn',\n",
       " \"wouldn't\",\n",
       " 'y',\n",
       " 'you',\n",
       " \"you'd\",\n",
       " \"you'll\",\n",
       " \"you're\",\n",
       " \"you've\",\n",
       " 'your',\n",
       " 'yours',\n",
       " 'yourself',\n",
       " 'yourselves'}"
      ]
     },
     "execution_count": 30,
     "metadata": {},
     "output_type": "execute_result"
    }
   ],
   "source": [
    "#Remove English stopwords\n",
    "from nltk.corpus import stopwords\n",
    "set(stopwords.words('english'))"
   ]
  },
  {
   "cell_type": "code",
   "execution_count": 31,
   "metadata": {},
   "outputs": [
    {
     "name": "stdout",
     "output_type": "stream",
     "text": [
      "['fawn', 'racing', 'forest', 'ahead', 'rabbit', 'ahead', 'elephant', 'leapt', 'cleared', 'stream', 'ran', 'past', 'crumbling', 'wall', 'large', 'boulder', 'grassy', 'plain', 'stumbled', 'fell']\n"
     ]
    }
   ],
   "source": [
    "stop = stopwords.words('english')\n",
    "tokens = [token for token in tokens if token not in stop]\n",
    "print(tokens[:20])"
   ]
  },
  {
   "cell_type": "code",
   "execution_count": 37,
   "metadata": {},
   "outputs": [],
   "source": [
    "from nltk.stem.wordnet import WordNetLemmatizer\n",
    "from sklearn.feature_extraction.text import TfidfVectorizer"
   ]
  },
  {
   "cell_type": "code",
   "execution_count": 33,
   "metadata": {},
   "outputs": [
    {
     "name": "stdout",
     "output_type": "stream",
     "text": [
      "['fawn', 'racing', 'forest', 'ahead', 'rabbit', 'ahead', 'elephant', 'leapt', 'cleared', 'stream', 'ran', 'past', 'crumbling', 'wall', 'large', 'boulder', 'grassy', 'plain', 'stumbled', 'fell']\n"
     ]
    }
   ],
   "source": [
    "#Lemmatize tags\n",
    "lmtzr = WordNetLemmatizer()\n",
    "tokens = [lmtzr.lemmatize(token) for token in tokens]\n",
    "print(tokens[:20])"
   ]
  },
  {
   "cell_type": "code",
   "execution_count": 34,
   "metadata": {},
   "outputs": [],
   "source": [
    "from collections import Counter"
   ]
  },
  {
   "cell_type": "code",
   "execution_count": 36,
   "metadata": {},
   "outputs": [
    {
     "name": "stdout",
     "output_type": "stream",
     "text": [
      "[('fawn', 5), ('ahead', 2), ('boulder', 2), ('tear', 2), ('cry', 2), ('mother', 2), ('said', 2), ('racing', 1), ('forest', 1), ('rabbit', 1)]\n"
     ]
    }
   ],
   "source": [
    "#Determine most frequently occuring tokens in the first story\n",
    "count = Counter(tokens)\n",
    "print(count.most_common(10))"
   ]
  },
  {
   "cell_type": "code",
   "execution_count": 39,
   "metadata": {},
   "outputs": [
    {
     "data": {
      "text/plain": [
       "<matplotlib.image.AxesImage at 0x1dc62bb3dd8>"
      ]
     },
     "execution_count": 39,
     "metadata": {},
     "output_type": "execute_result"
    },
    {
     "data": {
      "image/png": "[encoded data removed]",
      "text/plain": [
       "<matplotlib.figure.Figure at 0x1dc60a0c908>"
      ]
     },
     "metadata": {},
     "output_type": "display_data"
    }
   ],
   "source": [
    "#Create a word cloud for first story\n",
    "from wordcloud import WordCloud\n",
    "wordcloud = WordCloud().generate(contentstory1)\n",
    "import matplotlib.pyplot as plt\n",
    "%matplotlib inline\n",
    "plt.imshow(wordcloud)"
   ]
  },
  {
   "cell_type": "markdown",
   "metadata": {},
   "source": [
    "## Use custom function to determine tf/idf for tokens in first 3 english stories"
   ]
  },
  {
   "cell_type": "code",
   "execution_count": 123,
   "metadata": {},
   "outputs": [],
   "source": [
    "import math\n",
    "from textblob import TextBlob as tb\n",
    "#Determine term frequency of words\n",
    "def tf(word, blob):\n",
    "    return blob.words.count(word) / len(blob.words)\n",
    "\n",
    "def n_containing(word, bloblist):\n",
    "    return sum(1 for blob in bloblist if word in blob.words)\n",
    "#Determine inverse document frequency of words\n",
    "def idf(word, bloblist):\n",
    "    return math.log(len(bloblist) / (1 + n_containing(word, bloblist)))\n",
    "#Compute tf-idf\n",
    "def tfidf(word, blob, bloblist):\n",
    "    return tf(word, blob) * idf(word, bloblist)"
   ]
  },
  {
   "cell_type": "code",
   "execution_count": 124,
   "metadata": {},
   "outputs": [],
   "source": [
    "#Get content of first 3 english stories\n",
    "document1 = tb(englishstories.story_content[1])\n",
    "document2 = tb(englishstories.story_content[5])\n",
    "document3 = tb(englishstories.story_content[14])      "
   ]
  },
  {
   "cell_type": "code",
   "execution_count": 125,
   "metadata": {},
   "outputs": [
    {
     "name": "stdout",
     "output_type": "stream",
     "text": [
      "Top words in document 1\n",
      "\tWord: fawn, TF-IDF: 0.01968\n",
      "\tWord: ahead, TF-IDF: 0.00787\n",
      "\tWord: boulder, TF-IDF: 0.00787\n",
      "Top words in document 2\n",
      "\tWord: king, TF-IDF: 0.03825\n",
      "\tWord: fat, TF-IDF: 0.0306\n",
      "\tWord: thin, TF-IDF: 0.02295\n",
      "Top words in document 3\n",
      "\tWord: Wind, TF-IDF: 0.02278\n",
      "\tWord: wind, TF-IDF: 0.02278\n",
      "\tWord: Vayu, TF-IDF: 0.0205\n"
     ]
    }
   ],
   "source": [
    "#Create a bloblist of the 3 stories\n",
    "#Determine tf-idf within this corpus\n",
    "bloblist = [document1, document2, document3]\n",
    "for i, blob in enumerate(bloblist):\n",
    "    print(\"Top words in document {}\".format(i + 1))\n",
    "    scores = {word: tfidf(word, blob, bloblist) for word in blob.words}\n",
    "    sorted_words = sorted(scores.items(), key=lambda x: x[1], reverse=True)\n",
    "    for word, score in sorted_words[:3]:\n",
    "        print(\"\\tWord: {}, TF-IDF: {}\".format(word, round(score, 5)))"
   ]
  },
  {
   "cell_type": "code",
   "execution_count": null,
   "metadata": {},
   "outputs": [],
   "source": []
  }
 ],
 "metadata": {
  "kernelspec": {
   "display_name": "Python 3",
   "language": "python",
   "name": "python3"
  },
  "language_info": {
   "codemirror_mode": {
    "name": "ipython",
    "version": 3
   },
   "file_extension": ".py",
   "mimetype": "text/x-python",
   "name": "python",
   "nbconvert_exporter": "python",
   "pygments_lexer": "ipython3",
   "version": "3.6.5"
  },
  "toc": {
   "base_numbering": 1,
   "nav_menu": {},
   "number_sections": false,
   "sideBar": false,
   "skip_h1_title": false,
   "title_cell": "Table of Contents",
   "title_sidebar": "Contents",
   "toc_cell": false,
   "toc_position": {},
   "toc_section_display": false,
   "toc_window_display": false
  }
 },
 "nbformat": 4,
 "nbformat_minor": 2
}

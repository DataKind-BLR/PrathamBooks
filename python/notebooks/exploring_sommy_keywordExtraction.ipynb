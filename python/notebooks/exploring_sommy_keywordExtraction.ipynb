{
 "cells": [
  {
   "cell_type": "code",
   "execution_count": 1,
   "metadata": {},
   "outputs": [],
   "source": [
    "import sys,getopt"
   ]
  },
  {
   "cell_type": "code",
   "execution_count": null,
   "metadata": {},
   "outputs": [],
   "source": []
  },
  {
   "cell_type": "code",
   "execution_count": 3,
   "metadata": {},
   "outputs": [],
   "source": [
    "from summa import commons, graph, keywords, pagerank_weighted"
   ]
  },
  {
   "cell_type": "code",
   "execution_count": 4,
   "metadata": {},
   "outputs": [],
   "source": [
    "from summa import summarizer, syntactic_unit, textrank"
   ]
  },
  {
   "cell_type": "code",
   "execution_count": 73,
   "metadata": {},
   "outputs": [],
   "source": [
    "text = \"\"\"Automatic summarization is the process of reducing a text document with a\n",
    "computer program in order to create a summary that retains the most important points\n",
    "of the original document. As the problem of information overload has grown, and as\n",
    "the quantity of data has increased, so has interest in automatic summarization.\n",
    "Technologies that can make a coherent summary take into account variables such as\n",
    "length, writing style and syntax. An example of the use of summarization technology\n",
    "is search engines such as Google. Document summarization is another.\"\"\"\n"
   ]
  },
  {
   "cell_type": "code",
   "execution_count": 74,
   "metadata": {},
   "outputs": [],
   "source": [
    "a=keywords.keywords(text)"
   ]
  },
  {
   "cell_type": "code",
   "execution_count": 97,
   "metadata": {},
   "outputs": [
    {
     "data": {
      "text/plain": [
       "0"
      ]
     },
     "execution_count": 97,
     "metadata": {},
     "output_type": "execute_result"
    }
   ],
   "source": [
    "text.count(\"ix\")"
   ]
  },
  {
   "cell_type": "code",
   "execution_count": 28,
   "metadata": {},
   "outputs": [],
   "source": [
    "a1=[s.strip() for s in a.splitlines()]"
   ]
  },
  {
   "cell_type": "code",
   "execution_count": 29,
   "metadata": {},
   "outputs": [
    {
     "data": {
      "text/plain": [
       "['document', 'automatic summarization', 'technologies', 'technology']"
      ]
     },
     "execution_count": 29,
     "metadata": {},
     "output_type": "execute_result"
    }
   ],
   "source": [
    "a1"
   ]
  },
  {
   "cell_type": "code",
   "execution_count": 10,
   "metadata": {},
   "outputs": [],
   "source": [
    "import csv\n"
   ]
  },
  {
   "cell_type": "code",
   "execution_count": 11,
   "metadata": {},
   "outputs": [],
   "source": [
    "import pandas as pd"
   ]
  },
  {
   "cell_type": "code",
   "execution_count": 182,
   "metadata": {},
   "outputs": [],
   "source": [
    "df=pd.read_csv(\"content.csv\",encoding='utf-8')"
   ]
  },
  {
   "cell_type": "code",
   "execution_count": 85,
   "metadata": {},
   "outputs": [],
   "source": [
    "#df = df.drop(df[df.score < 50].index)\n",
    "df = df.drop(df[df.story_id == 18773].index)"
   ]
  },
  {
   "cell_type": "code",
   "execution_count": 110,
   "metadata": {},
   "outputs": [],
   "source": [
    "g=remove_special_characters(df[\"story_content\"][1820])"
   ]
  },
  {
   "cell_type": "code",
   "execution_count": 111,
   "metadata": {},
   "outputs": [
    {
     "data": {
      "text/plain": [
       "'There was a strong Big Brother and small brotherThe big brother always used to help his brother in school and other public areasBut when in homehe beat his brother violentlyThis created a bad impression in small brother about his elder brother  The Big Brother was always lazy to do any work instead he made his work done by his younger brother One day younger brother was out to his friends housebecause of fighting with his elder brotherHe called him to play football but his brother refused This made him angryThe elder thought that he had won his younger brother and he can do his job on his ownHe saidI dont want your help anymoreI had won You HAAAAAAAAAA  But in few minutesHe felt his loneliness He was exhaustedHe went out and searched his brother for all day But he failedmeanwhile younger brother came home and searched for His elder brotherHe asked his parentsneighboursBut no answer  He waited till night out side waiting for his brother there was a boy walking in street alone and sad It was none other than his brother They both came running to each otherand hugged They went home happily  The next day elder brother gave him a letter of peace The both brothers thought that this was The biggest win in their life '"
      ]
     },
     "execution_count": 111,
     "metadata": {},
     "output_type": "execute_result"
    }
   ],
   "source": [
    "g"
   ]
  },
  {
   "cell_type": "code",
   "execution_count": null,
   "metadata": {},
   "outputs": [],
   "source": [
    " if(len(g)==g.count(\" \")):\n",
    "        item1.append(item)"
   ]
  },
  {
   "cell_type": "code",
   "execution_count": null,
   "metadata": {},
   "outputs": [],
   "source": []
  },
  {
   "cell_type": "code",
   "execution_count": null,
   "metadata": {},
   "outputs": [],
   "source": []
  },
  {
   "cell_type": "code",
   "execution_count": 176,
   "metadata": {},
   "outputs": [
    {
     "data": {
      "text/plain": [
       "'I write. I am a poor writer. Words are mysterious aggregates that mock me like earwigs hidden in leaf-sheaths of waterside reeds. They form in my head, for I am a living lexicon; I know what they mean to mean, but I use them either too often or too less. I began my reading lessons by stealing glances into the dog-eared ranch bible, although I already knew it by heart, and then progressed stealthily into turgid nonsense of vegetarian mugwumps. I steady myself, and open the Yettaflop mainframe. “Dear Martha: We read your work, ‘The Rubberbandman Diaries,’ with special interest. Unfortunately it’s not a good fit for us right now. A word about the story though – it’s perfect – but no more. Don’t let it stop you yet from submitting other work to us. Thwack, Groot Vishuis.” Another rejection. I sigh with relief. Obscurity works for me just fine. I check “Writer’s Ashram” several times a day. The blue tags showing “Received” are all right; I am calm. I get all jumpy when things turn yellowy and say “In-Progress,” because it means the story has been additionally handled in some way. What way? Would they decline it – which is more likely, considering that I am a proud collector of rejections? Or worse – accept it? O, I would die with the excitement of it – it would be so terrible for my nerves! I am not one for success, or fame – what if it goes to my head? I might stop trying to improve! My method devices, my tendency to begin at the beginning, my not ending before starting, my telling , not showing – who will check me if I become a bestseller? “Do you know of the Rubberbandman, who underwent a lifetime of agony stretching and contracting, to save lives?” I ask Philetus Swift Barber, who is from Churchill Downs; he’s the closest I have to a friend. “Naah, what of him?” “He was reborn a Rainbow Loom; see this here fishtail bracelet,” I hold out my slim wrist for him to approve, “was made in it.” “Wow! I thought only Gilgulims were reborn.” Philetus quit the 5 th US Automaton Regiment, after it was nearly wiped out at Battroborgad due to an electric storm. Fleet of foot, delicate, and warm like the horses he races, he is a star slave jockey. And he likes me, and treats me like the lady I pretend to be. I didn’t tell him Rubberbandman was from a story I’d written – I was testing him, seeing how Iota Emancipated readers like him would react to my work. I always had a tale to regale pals with at the Lube Bar, or at the Hormone Dispenser. Like with stuff I’d made up about the curious banter between the pinup girl and the battery-dead beep. But when it came to putting it down on paper, I always came a cropper. “Where do you come up with all this stuff,” Philetus asks, turning his handsome face up towards mine, the warm Sunday sunrays bouncing off his shining forehead. “Master’s Library. And in dreams sometimes.” He halts, his fingers slip off my arm. “Hey, I was only joking! Who knows what stuff dreams are made of?” “Folks should be getting home now,” he says, relaxing, without looking at his watch. A thin spiral of white dust suddenly rises above the church steeple beyond the cotton fields, getting bigger as it slowly curves its way down the snaking road towards us. “You’re darn right.” I beam down at him, rolling my eyes. “Come next Sunday again. I’ll make you nice mango-lemon softy.” He clucks appreciatively. We turn back, hand in hand again, to our separate homes. At my wicket gate I bend down so he may kiss me, causing me to shudder involuntarily. He shakes his head, “You are a good actor, you!” I lean on the gate, feeling strangely drained as my eyes follow his striking figure till he turns the corner. As soon as I enter the dark hardwood clad house I flick open the computer again to check mail. Many tags have turned a relaxing “decline-red”. One – I look closely – seems an unfamiliar color – a green! The Monkeynut Magazine has accepted my Rubberbandman story! I rub my eyes in disbelief. In milliseconds I shred the image into a million parts, scan for occlusions, bounce radio waves off the screen and check the optics circuits – it’s all in order – the word “accepted” fades and comes back into focus – still the same! I sink into the chair and tilt my head back, but I am nowhere close to fainting. I check my forehead – it’s warm from the sun, but not flushed, and obviously, there are no beads of sweat. I feel for a pulse that isn’t. The unthinkable has happened; I am going to be a published author! Suddenly I hear master’s car in the porch. There is no time to be wasted! I slide the cursor and click “Withdraw-Submission,” flushing my story permanently down the graveyard of anonymous electronic garble. “What’s keeping you so awfully busy, Martha,” Grace asks, standing right behind me. I deduce from her choice of words she is upset I wasn’t at the doorway. “Checking out the recipe of Mango-Lemon Softy, Missus Grace, ma’am.” I press a button, bringing up the recipe screen, and hurriedly rise. Mr. Chips is not convinced, though. He is mute, not dumb. He has a frown as he waves his hands and flicks his fingers to speak to me in sign language: “I hope you have not been writing again, Martha?” I shake my head, but the lie will not spill forth from my lips. “Automatons are not supposed to do that. You know what they do to self-aware machines – they send them down to the slayer’s workshops. You will be torched down and melted in a crucible. Then you’ll be forged into pansies and strung up the churchyard gates. And that, you know, will pain me deeply!”'"
      ]
     },
     "execution_count": 176,
     "metadata": {},
     "output_type": "execute_result"
    }
   ],
   "source": [
    "df[\"story_content\"][131]"
   ]
  },
  {
   "cell_type": "code",
   "execution_count": 169,
   "metadata": {},
   "outputs": [
    {
     "data": {
      "text/plain": [
       "2047"
      ]
     },
     "execution_count": 169,
     "metadata": {},
     "output_type": "execute_result"
    }
   ],
   "source": [
    "len(df[\"story_content\"])"
   ]
  },
  {
   "cell_type": "code",
   "execution_count": 88,
   "metadata": {},
   "outputs": [],
   "source": [
    "?df.drop"
   ]
  },
  {
   "cell_type": "code",
   "execution_count": 159,
   "metadata": {},
   "outputs": [],
   "source": [
    "x=df[\"story_content\"]"
   ]
  },
  {
   "cell_type": "code",
   "execution_count": 160,
   "metadata": {},
   "outputs": [
    {
     "data": {
      "text/plain": [
       "2047"
      ]
     },
     "execution_count": 160,
     "metadata": {},
     "output_type": "execute_result"
    }
   ],
   "source": [
    "len(x)"
   ]
  },
  {
   "cell_type": "code",
   "execution_count": 81,
   "metadata": {},
   "outputs": [
    {
     "data": {
      "text/plain": [
       "'여기 나무가 한그루 있습니다. 나무는 땅 위에 서 있습니다. 그리고 주변으로는 풀이 자라고 있습니다. 그리고 주변으로는 풀이 자라고 있습니다. 여기 나무가 한그루 있습니다. 나무는 땅 위에 서 있습니다. 나무의 뿌리는 땅 속에 있습니다. 그리고 주변으로는 풀이 자라고 있습니다. 그리고 주변으로는 풀이 자라고 있습니다. 여기 나무가 한그루 있습니다. 나무는 땅 위에 서 있습니다. 나무의 뿌리는 땅 속에 있습니다.\\xa0 토양은 뿌리를 덮고 있습니다. 그리고 주변으로는 풀이 자라고 있습니다. 그리고 주변으로는 풀이 자라고 있습니다. 여기 나무가 한그루 있습니다. 나무는 땅 위에 서 있습니다. 나무의 뿌리는 땅 속에 있습니다. 토양은 뿌리를 덮고 있습니다. 나무 기둥은 그 위에 우뚝 서 있습니다. 그리고 주변으로는 풀이 자라고 있습니다. 그리고 주변으로는 풀이 자라고 있습니다. 여기 나무가 한그루 있습니다. 나무는 땅 위에 서 있습니다. 나무의 뿌리는 땅 속에 있습니다. 토양은 뿌리를 덮고 있습니다. 나무 기둥은 그 위에 우뚝 서 있습니다. 그리고 나뭇가지들은 나무기둥에서 뻗어나갑니다. 그리고 주변으로는 풀이 자라고 있습니다. 그리고 주변으로는 풀이 자라고 있습니다. 여기 나무가 한그루 있습니다. 나무는 땅 위에 서 있습니다. 나무의 뿌리는 땅 속에 있습니다. 토양은 뿌리를 덮고 있습니다. 나무 기둥은 그 위에 우뚝 서 있습니다. 그리고 나뭇가지들은 나무기둥에서 뻗어나갑니다. 그리고 잎들은 나뭇가지에서 자라납니다. 그리고 주변으로는 풀이 자라고 있습니다. 그리고 주변으로는 풀이 자라고 있습니다. 여기 나무가 한그루 있습니다. 나무는 땅 위에 서 있습니다. 나무의 뿌리는 땅 속에 있습니다. 토양은 뿌리를 덮고 있습니다. 나무 기둥은 그 위에 우뚝 서 있습니다. 그리고 나뭇가지들은 나무기둥에서 뻗어나갑니다. 그리고 잎들은 나뭇가지에서 자라납니다. 그리고 꽃들이 잎 주변에서 피어납니다. 그리고 주변으로는 풀이 자라고 있습니다. 그리고 주변으로는 풀이 자라고 있습니다. 여기 나무가 한그루 있습니다. 나무는 땅 위에 서 있습니다. 나무의 뿌리는 땅 속에 있습니다. 토양은 뿌리를 덮고 있습니다. 나무 기둥은 그 위에 우뚝 서 있습니다. 그리고 나뭇가지들은 나무기둥에서 뻗어나갑니다. 그리고 잎들은 나뭇가지에서 자라납니다. 그리고 꽃들이 잎 주변에서 피어납니다. 그리고 꽃에서 열매가 자라납니다. 그리고 주변으로는 풀이 자라고 있습니다. 그리고 주변으로는 풀이 자라고 있습니다. 여기 나무가 한그루 있습니다. 나무는 땅 위에 서 있습니다. 나무의 뿌리는 땅 속에 있습니다. 토양은 뿌리를 덮고 있습니다. 나무 기둥은 그 위에 우뚝 서 있습니다. 그리고 나뭇가지들은 나무기둥에서 뻗어나갑니다. 그리고 잎들은 나뭇가지에서 자라납니다. 그리고 꽃들이 잎 주변에서 피어납니다. 그리고 꽃에서 열매가 자라납니다. 그리고 그 열매 속에는 씨앗이 있습니다. 그리고 주변으로는 풀이 자라고 있습니다. 그리고 주변으로는 풀이 자라고 있습니다. 머지않아... 씨앗에서 아주 작은 식물들이 자라납니다. 어느날 이 작은 식물들은 나무가 될 것입니다. 그리고 주변으로는 풀이 자라날 것입니다. 그리고 주변으로는 풀이 자라날 것입니다.'"
      ]
     },
     "execution_count": 81,
     "metadata": {},
     "output_type": "execute_result"
    }
   ],
   "source": [
    "(df[\"story_content\"][1314])"
   ]
  },
  {
   "cell_type": "code",
   "execution_count": 67,
   "metadata": {},
   "outputs": [],
   "source": [
    "l=remove_special_characters(df[\"story_content\"][1314])"
   ]
  },
  {
   "cell_type": "code",
   "execution_count": 68,
   "metadata": {},
   "outputs": [
    {
     "data": {
      "text/plain": [
       "369"
      ]
     },
     "execution_count": 68,
     "metadata": {},
     "output_type": "execute_result"
    }
   ],
   "source": [
    "len(l)"
   ]
  },
  {
   "cell_type": "code",
   "execution_count": 72,
   "metadata": {},
   "outputs": [
    {
     "name": "stdout",
     "output_type": "stream",
     "text": [
      "h\n"
     ]
    }
   ],
   "source": [
    "if(l[0] == ' '):\n",
    "    print(\"h\")"
   ]
  },
  {
   "cell_type": "code",
   "execution_count": null,
   "metadata": {},
   "outputs": [],
   "source": []
  },
  {
   "cell_type": "code",
   "execution_count": 63,
   "metadata": {},
   "outputs": [
    {
     "data": {
      "text/plain": [
       "2048"
      ]
     },
     "execution_count": 63,
     "metadata": {},
     "output_type": "execute_result"
    }
   ],
   "source": [
    "len(x)"
   ]
  },
  {
   "cell_type": "code",
   "execution_count": null,
   "metadata": {},
   "outputs": [],
   "source": [
    "u = unicode(s, \"utf-8\")"
   ]
  },
  {
   "cell_type": "code",
   "execution_count": 47,
   "metadata": {},
   "outputs": [],
   "source": [
    "import re"
   ]
  },
  {
   "cell_type": "code",
   "execution_count": 66,
   "metadata": {},
   "outputs": [],
   "source": [
    "def remove_special_characters(text, remove_digits=False):\n",
    "    pattern = r'[^a-zA-z0-9\\s]' if not remove_digits else r'[^a-zA-z\\s]'\n",
    "    text = re.sub(pattern,'', text)\n",
    "    return text"
   ]
  },
  {
   "cell_type": "code",
   "execution_count": null,
   "metadata": {},
   "outputs": [],
   "source": []
  },
  {
   "cell_type": "code",
   "execution_count": 189,
   "metadata": {},
   "outputs": [
    {
     "data": {
      "text/plain": [
       "pandas.core.series.Series"
      ]
     },
     "execution_count": 189,
     "metadata": {},
     "output_type": "execute_result"
    }
   ],
   "source": [
    "type(x)"
   ]
  },
  {
   "cell_type": "code",
   "execution_count": 181,
   "metadata": {},
   "outputs": [
    {
     "ename": "TypeError",
     "evalue": "expected string or bytes-like object",
     "output_type": "error",
     "traceback": [
      "\u001b[1;31m---------------------------------------------------------------------------\u001b[0m",
      "\u001b[1;31mTypeError\u001b[0m                                 Traceback (most recent call last)",
      "\u001b[1;32m<ipython-input-181-6f2ee922773a>\u001b[0m in \u001b[0;36m<module>\u001b[1;34m()\u001b[0m\n\u001b[0;32m      3\u001b[0m     \u001b[1;32mif\u001b[0m\u001b[1;33m(\u001b[0m\u001b[0mitem\u001b[0m \u001b[1;33m==\u001b[0m \u001b[1;36m1314\u001b[0m\u001b[1;33m)\u001b[0m\u001b[1;33m:\u001b[0m\u001b[1;33m\u001b[0m\u001b[0m\n\u001b[0;32m      4\u001b[0m         \u001b[1;32mcontinue\u001b[0m\u001b[1;33m\u001b[0m\u001b[0m\n\u001b[1;32m----> 5\u001b[1;33m     \u001b[0ma1\u001b[0m\u001b[1;33m=\u001b[0m\u001b[0mremove_special_characters\u001b[0m\u001b[1;33m(\u001b[0m\u001b[0mx\u001b[0m\u001b[1;33m[\u001b[0m\u001b[0mitem\u001b[0m\u001b[1;33m]\u001b[0m\u001b[1;33m)\u001b[0m\u001b[1;33m\u001b[0m\u001b[0m\n\u001b[0m\u001b[0;32m      6\u001b[0m     \u001b[0ma\u001b[0m\u001b[1;33m=\u001b[0m\u001b[0mkeywords\u001b[0m\u001b[1;33m.\u001b[0m\u001b[0mkeywords\u001b[0m\u001b[1;33m(\u001b[0m\u001b[0ma1\u001b[0m\u001b[1;33m)\u001b[0m\u001b[1;33m\u001b[0m\u001b[0m\n\u001b[0;32m      7\u001b[0m     \u001b[0my\u001b[0m\u001b[1;33m=\u001b[0m\u001b[1;33m[\u001b[0m\u001b[0ms\u001b[0m\u001b[1;33m.\u001b[0m\u001b[0mstrip\u001b[0m\u001b[1;33m(\u001b[0m\u001b[1;33m)\u001b[0m \u001b[1;32mfor\u001b[0m \u001b[0ms\u001b[0m \u001b[1;32min\u001b[0m \u001b[0ma\u001b[0m\u001b[1;33m.\u001b[0m\u001b[0msplitlines\u001b[0m\u001b[1;33m(\u001b[0m\u001b[1;33m)\u001b[0m\u001b[1;33m]\u001b[0m\u001b[1;33m\u001b[0m\u001b[0m\n",
      "\u001b[1;32m<ipython-input-66-20122932b1a7>\u001b[0m in \u001b[0;36mremove_special_characters\u001b[1;34m(text, remove_digits)\u001b[0m\n\u001b[0;32m      1\u001b[0m \u001b[1;32mdef\u001b[0m \u001b[0mremove_special_characters\u001b[0m\u001b[1;33m(\u001b[0m\u001b[0mtext\u001b[0m\u001b[1;33m,\u001b[0m \u001b[0mremove_digits\u001b[0m\u001b[1;33m=\u001b[0m\u001b[1;32mFalse\u001b[0m\u001b[1;33m)\u001b[0m\u001b[1;33m:\u001b[0m\u001b[1;33m\u001b[0m\u001b[0m\n\u001b[0;32m      2\u001b[0m     \u001b[0mpattern\u001b[0m \u001b[1;33m=\u001b[0m \u001b[1;34mr'[^a-zA-z0-9\\s]'\u001b[0m \u001b[1;32mif\u001b[0m \u001b[1;32mnot\u001b[0m \u001b[0mremove_digits\u001b[0m \u001b[1;32melse\u001b[0m \u001b[1;34mr'[^a-zA-z\\s]'\u001b[0m\u001b[1;33m\u001b[0m\u001b[0m\n\u001b[1;32m----> 3\u001b[1;33m     \u001b[0mtext\u001b[0m \u001b[1;33m=\u001b[0m \u001b[0mre\u001b[0m\u001b[1;33m.\u001b[0m\u001b[0msub\u001b[0m\u001b[1;33m(\u001b[0m\u001b[0mpattern\u001b[0m\u001b[1;33m,\u001b[0m\u001b[1;34m''\u001b[0m\u001b[1;33m,\u001b[0m \u001b[0mtext\u001b[0m\u001b[1;33m)\u001b[0m\u001b[1;33m\u001b[0m\u001b[0m\n\u001b[0m\u001b[0;32m      4\u001b[0m     \u001b[1;32mreturn\u001b[0m \u001b[0mtext\u001b[0m\u001b[1;33m\u001b[0m\u001b[0m\n",
      "\u001b[1;32m~\\AppData\\Local\\Continuum\\anaconda3\\lib\\re.py\u001b[0m in \u001b[0;36msub\u001b[1;34m(pattern, repl, string, count, flags)\u001b[0m\n\u001b[0;32m    189\u001b[0m     \u001b[0ma\u001b[0m \u001b[0mcallable\u001b[0m\u001b[1;33m,\u001b[0m \u001b[0mit\u001b[0m\u001b[0;31m'\u001b[0m\u001b[0ms\u001b[0m \u001b[0mpassed\u001b[0m \u001b[0mthe\u001b[0m \u001b[0mmatch\u001b[0m \u001b[0mobject\u001b[0m \u001b[1;32mand\u001b[0m \u001b[0mmust\u001b[0m \u001b[1;32mreturn\u001b[0m\u001b[1;33m\u001b[0m\u001b[0m\n\u001b[0;32m    190\u001b[0m     a replacement string to be used.\"\"\"\n\u001b[1;32m--> 191\u001b[1;33m     \u001b[1;32mreturn\u001b[0m \u001b[0m_compile\u001b[0m\u001b[1;33m(\u001b[0m\u001b[0mpattern\u001b[0m\u001b[1;33m,\u001b[0m \u001b[0mflags\u001b[0m\u001b[1;33m)\u001b[0m\u001b[1;33m.\u001b[0m\u001b[0msub\u001b[0m\u001b[1;33m(\u001b[0m\u001b[0mrepl\u001b[0m\u001b[1;33m,\u001b[0m \u001b[0mstring\u001b[0m\u001b[1;33m,\u001b[0m \u001b[0mcount\u001b[0m\u001b[1;33m)\u001b[0m\u001b[1;33m\u001b[0m\u001b[0m\n\u001b[0m\u001b[0;32m    192\u001b[0m \u001b[1;33m\u001b[0m\u001b[0m\n\u001b[0;32m    193\u001b[0m \u001b[1;32mdef\u001b[0m \u001b[0msubn\u001b[0m\u001b[1;33m(\u001b[0m\u001b[0mpattern\u001b[0m\u001b[1;33m,\u001b[0m \u001b[0mrepl\u001b[0m\u001b[1;33m,\u001b[0m \u001b[0mstring\u001b[0m\u001b[1;33m,\u001b[0m \u001b[0mcount\u001b[0m\u001b[1;33m=\u001b[0m\u001b[1;36m0\u001b[0m\u001b[1;33m,\u001b[0m \u001b[0mflags\u001b[0m\u001b[1;33m=\u001b[0m\u001b[1;36m0\u001b[0m\u001b[1;33m)\u001b[0m\u001b[1;33m:\u001b[0m\u001b[1;33m\u001b[0m\u001b[0m\n",
      "\u001b[1;31mTypeError\u001b[0m: expected string or bytes-like object"
     ]
    }
   ],
   "source": [
    "x1=[]\n",
    "for item in range(len(x)):\n",
    "    if(item == 1314):\n",
    "        continue\n",
    "    a1=remove_special_characters(x[item])\n",
    "    a=keywords.keywords(a1)\n",
    "    y=[s.strip() for s in a.splitlines()]\n",
    "    x1.append(y)"
   ]
  },
  {
   "cell_type": "code",
   "execution_count": 183,
   "metadata": {},
   "outputs": [],
   "source": [
    "def add_keyword(x,i,f):\n",
    "    k=[]\n",
    "    for item in x[i:f]:\n",
    "        a1=remove_special_characters(item)\n",
    "        a=keywords.keywords(a1)\n",
    "        y=[s.strip() for s in a.splitlines()]\n",
    "        k.append(y)\n",
    "    return k"
   ]
  },
  {
   "cell_type": "code",
   "execution_count": null,
   "metadata": {},
   "outputs": [],
   "source": []
  },
  {
   "cell_type": "code",
   "execution_count": 184,
   "metadata": {},
   "outputs": [],
   "source": [
    "a=[]"
   ]
  },
  {
   "cell_type": "code",
   "execution_count": 186,
   "metadata": {},
   "outputs": [
    {
     "ename": "TypeError",
     "evalue": "cannot concatenate object of type \"<class 'str'>\"; only pd.Series, pd.DataFrame, and pd.Panel (deprecated) objs are valid",
     "output_type": "error",
     "traceback": [
      "\u001b[1;31m---------------------------------------------------------------------------\u001b[0m",
      "\u001b[1;31mTypeError\u001b[0m                                 Traceback (most recent call last)",
      "\u001b[1;32m<ipython-input-186-8fca72a95f59>\u001b[0m in \u001b[0;36m<module>\u001b[1;34m()\u001b[0m\n\u001b[1;32m----> 1\u001b[1;33m \u001b[0ma\u001b[0m\u001b[1;33m.\u001b[0m\u001b[0mappend\u001b[0m\u001b[1;33m(\u001b[0m\u001b[0madd_keyword\u001b[0m\u001b[1;33m(\u001b[0m\u001b[0mx\u001b[0m\u001b[1;33m,\u001b[0m\u001b[1;36m0\u001b[0m\u001b[1;33m,\u001b[0m\u001b[1;36m1000\u001b[0m\u001b[1;33m)\u001b[0m\u001b[1;33m)\u001b[0m\u001b[1;33m\u001b[0m\u001b[0m\n\u001b[0m",
      "\u001b[1;32m<ipython-input-183-632a9a738934>\u001b[0m in \u001b[0;36madd_keyword\u001b[1;34m(x, i, f)\u001b[0m\n\u001b[0;32m      4\u001b[0m         \u001b[0ma\u001b[0m\u001b[1;33m=\u001b[0m\u001b[0mkeywords\u001b[0m\u001b[1;33m.\u001b[0m\u001b[0mkeywords\u001b[0m\u001b[1;33m(\u001b[0m\u001b[0ma1\u001b[0m\u001b[1;33m)\u001b[0m\u001b[1;33m\u001b[0m\u001b[0m\n\u001b[0;32m      5\u001b[0m         \u001b[0my\u001b[0m\u001b[1;33m=\u001b[0m\u001b[1;33m[\u001b[0m\u001b[0ms\u001b[0m\u001b[1;33m.\u001b[0m\u001b[0mstrip\u001b[0m\u001b[1;33m(\u001b[0m\u001b[1;33m)\u001b[0m \u001b[1;32mfor\u001b[0m \u001b[0ms\u001b[0m \u001b[1;32min\u001b[0m \u001b[0ma\u001b[0m\u001b[1;33m.\u001b[0m\u001b[0msplitlines\u001b[0m\u001b[1;33m(\u001b[0m\u001b[1;33m)\u001b[0m\u001b[1;33m]\u001b[0m\u001b[1;33m\u001b[0m\u001b[0m\n\u001b[1;32m----> 6\u001b[1;33m         \u001b[0mx\u001b[0m\u001b[1;33m.\u001b[0m\u001b[0mappend\u001b[0m\u001b[1;33m(\u001b[0m\u001b[0my\u001b[0m\u001b[1;33m)\u001b[0m\u001b[1;33m\u001b[0m\u001b[0m\n\u001b[0m\u001b[0;32m      7\u001b[0m     \u001b[1;32mreturn\u001b[0m \u001b[0mx\u001b[0m\u001b[1;33m\u001b[0m\u001b[0m\n",
      "\u001b[1;32m~\\AppData\\Local\\Continuum\\anaconda3\\lib\\site-packages\\pandas\\core\\series.py\u001b[0m in \u001b[0;36mappend\u001b[1;34m(self, to_append, ignore_index, verify_integrity)\u001b[0m\n\u001b[0;32m   2152\u001b[0m             \u001b[0mto_concat\u001b[0m \u001b[1;33m=\u001b[0m \u001b[1;33m[\u001b[0m\u001b[0mself\u001b[0m\u001b[1;33m,\u001b[0m \u001b[0mto_append\u001b[0m\u001b[1;33m]\u001b[0m\u001b[1;33m\u001b[0m\u001b[0m\n\u001b[0;32m   2153\u001b[0m         return concat(to_concat, ignore_index=ignore_index,\n\u001b[1;32m-> 2154\u001b[1;33m                       verify_integrity=verify_integrity)\n\u001b[0m\u001b[0;32m   2155\u001b[0m \u001b[1;33m\u001b[0m\u001b[0m\n\u001b[0;32m   2156\u001b[0m     \u001b[1;32mdef\u001b[0m \u001b[0m_binop\u001b[0m\u001b[1;33m(\u001b[0m\u001b[0mself\u001b[0m\u001b[1;33m,\u001b[0m \u001b[0mother\u001b[0m\u001b[1;33m,\u001b[0m \u001b[0mfunc\u001b[0m\u001b[1;33m,\u001b[0m \u001b[0mlevel\u001b[0m\u001b[1;33m=\u001b[0m\u001b[1;32mNone\u001b[0m\u001b[1;33m,\u001b[0m \u001b[0mfill_value\u001b[0m\u001b[1;33m=\u001b[0m\u001b[1;32mNone\u001b[0m\u001b[1;33m)\u001b[0m\u001b[1;33m:\u001b[0m\u001b[1;33m\u001b[0m\u001b[0m\n",
      "\u001b[1;32m~\\AppData\\Local\\Continuum\\anaconda3\\lib\\site-packages\\pandas\\core\\reshape\\concat.py\u001b[0m in \u001b[0;36mconcat\u001b[1;34m(objs, axis, join, join_axes, ignore_index, keys, levels, names, verify_integrity, sort, copy)\u001b[0m\n\u001b[0;32m    223\u001b[0m                        \u001b[0mkeys\u001b[0m\u001b[1;33m=\u001b[0m\u001b[0mkeys\u001b[0m\u001b[1;33m,\u001b[0m \u001b[0mlevels\u001b[0m\u001b[1;33m=\u001b[0m\u001b[0mlevels\u001b[0m\u001b[1;33m,\u001b[0m \u001b[0mnames\u001b[0m\u001b[1;33m=\u001b[0m\u001b[0mnames\u001b[0m\u001b[1;33m,\u001b[0m\u001b[1;33m\u001b[0m\u001b[0m\n\u001b[0;32m    224\u001b[0m                        \u001b[0mverify_integrity\u001b[0m\u001b[1;33m=\u001b[0m\u001b[0mverify_integrity\u001b[0m\u001b[1;33m,\u001b[0m\u001b[1;33m\u001b[0m\u001b[0m\n\u001b[1;32m--> 225\u001b[1;33m                        copy=copy, sort=sort)\n\u001b[0m\u001b[0;32m    226\u001b[0m     \u001b[1;32mreturn\u001b[0m \u001b[0mop\u001b[0m\u001b[1;33m.\u001b[0m\u001b[0mget_result\u001b[0m\u001b[1;33m(\u001b[0m\u001b[1;33m)\u001b[0m\u001b[1;33m\u001b[0m\u001b[0m\n\u001b[0;32m    227\u001b[0m \u001b[1;33m\u001b[0m\u001b[0m\n",
      "\u001b[1;32m~\\AppData\\Local\\Continuum\\anaconda3\\lib\\site-packages\\pandas\\core\\reshape\\concat.py\u001b[0m in \u001b[0;36m__init__\u001b[1;34m(self, objs, axis, join, join_axes, keys, levels, names, ignore_index, verify_integrity, copy, sort)\u001b[0m\n\u001b[0;32m    284\u001b[0m                        \u001b[1;34m' only pd.Series, pd.DataFrame, and pd.Panel'\u001b[0m\u001b[1;33m\u001b[0m\u001b[0m\n\u001b[0;32m    285\u001b[0m                        ' (deprecated) objs are valid'.format(type(obj)))\n\u001b[1;32m--> 286\u001b[1;33m                 \u001b[1;32mraise\u001b[0m \u001b[0mTypeError\u001b[0m\u001b[1;33m(\u001b[0m\u001b[0mmsg\u001b[0m\u001b[1;33m)\u001b[0m\u001b[1;33m\u001b[0m\u001b[0m\n\u001b[0m\u001b[0;32m    287\u001b[0m \u001b[1;33m\u001b[0m\u001b[0m\n\u001b[0;32m    288\u001b[0m             \u001b[1;31m# consolidate\u001b[0m\u001b[1;33m\u001b[0m\u001b[1;33m\u001b[0m\u001b[0m\n",
      "\u001b[1;31mTypeError\u001b[0m: cannot concatenate object of type \"<class 'str'>\"; only pd.Series, pd.DataFrame, and pd.Panel (deprecated) objs are valid"
     ]
    }
   ],
   "source": [
    "a.append(add_keyword(x,0,1000))"
   ]
  },
  {
   "cell_type": "code",
   "execution_count": 233,
   "metadata": {},
   "outputs": [],
   "source": [
    "a1=remove_special_characters(x[1308])"
   ]
  },
  {
   "cell_type": "markdown",
   "metadata": {},
   "source": [
    "a1"
   ]
  },
  {
   "cell_type": "code",
   "execution_count": null,
   "metadata": {},
   "outputs": [],
   "source": []
  },
  {
   "cell_type": "code",
   "execution_count": null,
   "metadata": {},
   "outputs": [],
   "source": []
  },
  {
   "cell_type": "code",
   "execution_count": null,
   "metadata": {},
   "outputs": [],
   "source": []
  },
  {
   "cell_type": "code",
   "execution_count": null,
   "metadata": {},
   "outputs": [],
   "source": []
  },
  {
   "cell_type": "code",
   "execution_count": null,
   "metadata": {},
   "outputs": [],
   "source": []
  },
  {
   "cell_type": "code",
   "execution_count": null,
   "metadata": {},
   "outputs": [],
   "source": []
  },
  {
   "cell_type": "code",
   "execution_count": null,
   "metadata": {},
   "outputs": [],
   "source": []
  },
  {
   "cell_type": "code",
   "execution_count": 238,
   "metadata": {},
   "outputs": [
    {
     "data": {
      "text/plain": [
       "['gently', 'wind', 'far', 'thank', 'body', 'curtains', 'sill']"
      ]
     },
     "execution_count": 238,
     "metadata": {},
     "output_type": "execute_result"
    }
   ],
   "source": [
    "x1[2]"
   ]
  },
  {
   "cell_type": "code",
   "execution_count": null,
   "metadata": {},
   "outputs": [],
   "source": [
    "#0-1000, 1001-1300 , 1301-1307 , 1315-1349"
   ]
  },
  {
   "cell_type": "code",
   "execution_count": 196,
   "metadata": {},
   "outputs": [],
   "source": [
    "x1=[]"
   ]
  },
  {
   "cell_type": "code",
   "execution_count": 198,
   "metadata": {},
   "outputs": [],
   "source": [
    "\n",
    "for item in x[0:1000]:\n",
    "    a1=remove_special_characters(item)\n",
    "    a=keywords.keywords(a1)\n",
    "    y=[s.strip() for s in a.splitlines()]\n",
    "    x1.append(y)"
   ]
  },
  {
   "cell_type": "code",
   "execution_count": 208,
   "metadata": {},
   "outputs": [
    {
     "data": {
      "text/plain": [
       "319"
      ]
     },
     "execution_count": 208,
     "metadata": {},
     "output_type": "execute_result"
    }
   ],
   "source": [
    "len(x2)"
   ]
  },
  {
   "cell_type": "code",
   "execution_count": 209,
   "metadata": {},
   "outputs": [],
   "source": [
    "x2=[]"
   ]
  },
  {
   "cell_type": "code",
   "execution_count": 210,
   "metadata": {},
   "outputs": [],
   "source": [
    "for item in x[1001:1300]:\n",
    "    a1=remove_special_characters(item)\n",
    "    a=keywords.keywords(a1)\n",
    "    y=[s.strip() for s in a.splitlines()]\n",
    "    y1=pd.Series()\n",
    "    x2.append(y)"
   ]
  },
  {
   "cell_type": "code",
   "execution_count": 211,
   "metadata": {},
   "outputs": [],
   "source": [
    "x21=[]"
   ]
  },
  {
   "cell_type": "code",
   "execution_count": 212,
   "metadata": {},
   "outputs": [],
   "source": [
    "for item in x[1301:1307]:\n",
    "    a1=remove_special_characters(item)\n",
    "    a=keywords.keywords(a1)\n",
    "    y=[s.strip() for s in a.splitlines()]\n",
    "    x21.append(y)"
   ]
  },
  {
   "cell_type": "code",
   "execution_count": 231,
   "metadata": {},
   "outputs": [],
   "source": [
    "x22=[]"
   ]
  },
  {
   "cell_type": "code",
   "execution_count": 232,
   "metadata": {},
   "outputs": [],
   "source": [
    "for item in x[1315:1349]:\n",
    "    a1=remove_special_characters(item)\n",
    "    a=keywords.keywords(a1)\n",
    "    y=[s.strip() for s in a.splitlines()]\n",
    "    y1=pd.Series()\n",
    "    x22.append(y)"
   ]
  },
  {
   "cell_type": "code",
   "execution_count": 227,
   "metadata": {},
   "outputs": [],
   "source": [
    "a1=remove_special_characters(x[1308])"
   ]
  },
  {
   "cell_type": "code",
   "execution_count": 228,
   "metadata": {},
   "outputs": [
    {
     "data": {
      "text/plain": [
       "'In the green and cool forest of Maranda there were  many streams Some of them flowed into ponds where small animals came to drink water Others were big rushing rivers where you could even find crocodiles A hare and a tortoise lived near a small pond in Maranda forest They were the best of friends One fine day they set out to the market Suddenly there was a jackal with an evil grin blocking the road Where did he come from Looking at his scary face the hare said Run run and ran away as fast as he could Things were happening too fast for the tortoise Before he could peer at the jackal he had been carried away in his mouth The tortoise had just enough time to put his head inside \\xa0his shell The hare saw what had happened as he hid behind a tree He knew he had to help his friend He walked up to the jackal and asked Hello Jackal uncle what have you got there Ive got my food here the jackal replied Oh I see the hare said I had seen it long ago but it was too hard for me to eat I think you should leave it in the water for some time When it grows soft you will be able to eat it The jackal liked the hares idea as the shell of the tortoise was very hard He dropped the tortoise into the river The tortoise swam away to safety The hare also ran away The clever hare had saved his friend from the jackal The Concept Indias diverse linguistic landscape has a rich seam of stories for children Unfortunately many tribal languages do not have literature for children in book form or books for reading pleasure As increasing numbers of tribal children go to school it is now more necessary than ever to create a body of childrens literature in their languages Literature that reflects their own world and opens up the world beyond because books are magical powerful things that inform amuse educate and entertain in the most interactive way Books make every child an independent and lifelong seeker of knowledge in her own unique way For education to be truly meaningful to every child she must get good books to read in her own language The Project Pratham Books and IgnusERG with the support of Bernard van Leer Foundation have created the first ten books for childrens reading pleasure in Munda Kui Saura and Juanga languages from Odisha The stories were written and illustrated by authors and illustrators belonging to these tribes in a series of workshops This series of books is called Adikahani  It is a significant first step towards giving a voice to cultures that do not find adequate representation in mainstream discourses The Partners IgnusERG is a guild of resource persons working to support teachers and enhancing the quality of education particularly in government schools They focus their efforts on bringing equity in education and addressing the needs of marginalized children Bernard van Leer Foundation is an international grantmaking foundation based in The Hague Its mission is to improve opportunities for young children growing up in socially and economically difficult circumstances It has a particular interest in supporting mothertongue based education This story was written by the Saura Writers Group  consisting of Aben Sabar Ajam Gamango Isak Karji Pradin Gamango and Srinibas Gamango With a background in ECCE they all interact with children regularly It has been illustrated by Pradip Kumar Sahoo using the Saura mural style as a base The ancient Saura language has over 3 lakh speakers in Ganjam Rayagada and Gajapati districts of Odisha Saura wall murals have attracted the attention of art lovers across the country The spellings of the language in Odia script are not definitive as many new sounds are being rendered in print for the first time'"
      ]
     },
     "execution_count": 228,
     "metadata": {},
     "output_type": "execute_result"
    }
   ],
   "source": [
    "a1"
   ]
  },
  {
   "cell_type": "code",
   "execution_count": null,
   "metadata": {},
   "outputs": [],
   "source": []
  },
  {
   "cell_type": "code",
   "execution_count": 202,
   "metadata": {},
   "outputs": [],
   "source": [
    "x3=[]"
   ]
  },
  {
   "cell_type": "code",
   "execution_count": 203,
   "metadata": {},
   "outputs": [],
   "source": [
    "for item in x[1350:2047]:\n",
    "    a1=remove_special_characters(item)\n",
    "    a=keywords.keywords(a1)\n",
    "    y=[s.strip() for s in a.splitlines()]\n",
    "    x3.append(y)"
   ]
  },
  {
   "cell_type": "code",
   "execution_count": null,
   "metadata": {},
   "outputs": [],
   "source": []
  },
  {
   "cell_type": "code",
   "execution_count": null,
   "metadata": {},
   "outputs": [],
   "source": []
  },
  {
   "cell_type": "code",
   "execution_count": 115,
   "metadata": {},
   "outputs": [],
   "source": [
    "x4=[]\n",
    "for item in x[301:800]:\n",
    "    a1=remove_special_characters(item)\n",
    "    a=keywords.keywords(a1)\n",
    "    y=[s.strip() for s in a.splitlines()]\n",
    "    x4.append(y)"
   ]
  },
  {
   "cell_type": "code",
   "execution_count": 116,
   "metadata": {},
   "outputs": [],
   "source": [
    "x5=[]\n",
    "for item in x[801:1000]:\n",
    "    a1=remove_special_characters(item)\n",
    "    a=keywords.keywords(a1)\n",
    "    y=[s.strip() for s in a.splitlines()]\n",
    "    x5.append(y)"
   ]
  },
  {
   "cell_type": "code",
   "execution_count": 120,
   "metadata": {},
   "outputs": [],
   "source": [
    "#b\\w 1001 and 1400\n",
    "x6=[]\n",
    "for item in x[1001:1100]:\n",
    "    a1=remove_special_characters(item)\n",
    "    a=keywords.keywords(a1)\n",
    "    y=[s.strip() for s in a.splitlines()]\n",
    "    x6.append(y)"
   ]
  },
  {
   "cell_type": "code",
   "execution_count": 121,
   "metadata": {},
   "outputs": [],
   "source": [
    "\n",
    "x7=[]\n",
    "for item in x[1100:1200]:\n",
    "    a1=remove_special_characters(item)\n",
    "    a=keywords.keywords(a1)\n",
    "    y=[s.strip() for s in a.splitlines()]\n",
    "    x7.append(y)"
   ]
  },
  {
   "cell_type": "code",
   "execution_count": 122,
   "metadata": {},
   "outputs": [],
   "source": [
    "\n",
    "x7=[]\n",
    "for item in x[1200:1300]:\n",
    "    a1=remove_special_characters(item)\n",
    "    a=keywords.keywords(a1)\n",
    "    y=[s.strip() for s in a.splitlines()]\n",
    "    x7.append(y)"
   ]
  },
  {
   "cell_type": "code",
   "execution_count": 138,
   "metadata": {},
   "outputs": [],
   "source": [
    "#it's definitely between 1300-1350\n",
    "#1400-1500 is safe\n",
    "#1500-1700 is safe\n",
    "#1700 to 1900 is safe\n",
    "x7=[]\n",
    "for item in x[1315:1320]:\n",
    "    a1=remove_special_characters(item)\n",
    "    a=keywords.keywords(a1)\n",
    "    y=[s.strip() for s in a.splitlines()]\n",
    "    x7.append(y)"
   ]
  },
  {
   "cell_type": "code",
   "execution_count": 156,
   "metadata": {},
   "outputs": [
    {
     "ename": "KeyError",
     "evalue": "1314",
     "output_type": "error",
     "traceback": [
      "\u001b[1;31m---------------------------------------------------------------------------\u001b[0m",
      "\u001b[1;31mKeyError\u001b[0m                                  Traceback (most recent call last)",
      "\u001b[1;32m<ipython-input-156-ea4cef636259>\u001b[0m in \u001b[0;36m<module>\u001b[1;34m()\u001b[0m\n\u001b[1;32m----> 1\u001b[1;33m \u001b[0mx\u001b[0m\u001b[1;33m[\u001b[0m\u001b[1;36m1314\u001b[0m\u001b[1;33m]\u001b[0m\u001b[1;33m\u001b[0m\u001b[0m\n\u001b[0m",
      "\u001b[1;32m~\\AppData\\Local\\Continuum\\anaconda3\\lib\\site-packages\\pandas\\core\\series.py\u001b[0m in \u001b[0;36m__getitem__\u001b[1;34m(self, key)\u001b[0m\n\u001b[0;32m    764\u001b[0m         \u001b[0mkey\u001b[0m \u001b[1;33m=\u001b[0m \u001b[0mcom\u001b[0m\u001b[1;33m.\u001b[0m\u001b[0m_apply_if_callable\u001b[0m\u001b[1;33m(\u001b[0m\u001b[0mkey\u001b[0m\u001b[1;33m,\u001b[0m \u001b[0mself\u001b[0m\u001b[1;33m)\u001b[0m\u001b[1;33m\u001b[0m\u001b[0m\n\u001b[0;32m    765\u001b[0m         \u001b[1;32mtry\u001b[0m\u001b[1;33m:\u001b[0m\u001b[1;33m\u001b[0m\u001b[0m\n\u001b[1;32m--> 766\u001b[1;33m             \u001b[0mresult\u001b[0m \u001b[1;33m=\u001b[0m \u001b[0mself\u001b[0m\u001b[1;33m.\u001b[0m\u001b[0mindex\u001b[0m\u001b[1;33m.\u001b[0m\u001b[0mget_value\u001b[0m\u001b[1;33m(\u001b[0m\u001b[0mself\u001b[0m\u001b[1;33m,\u001b[0m \u001b[0mkey\u001b[0m\u001b[1;33m)\u001b[0m\u001b[1;33m\u001b[0m\u001b[0m\n\u001b[0m\u001b[0;32m    767\u001b[0m \u001b[1;33m\u001b[0m\u001b[0m\n\u001b[0;32m    768\u001b[0m             \u001b[1;32mif\u001b[0m \u001b[1;32mnot\u001b[0m \u001b[0mis_scalar\u001b[0m\u001b[1;33m(\u001b[0m\u001b[0mresult\u001b[0m\u001b[1;33m)\u001b[0m\u001b[1;33m:\u001b[0m\u001b[1;33m\u001b[0m\u001b[0m\n",
      "\u001b[1;32m~\\AppData\\Local\\Continuum\\anaconda3\\lib\\site-packages\\pandas\\core\\indexes\\base.py\u001b[0m in \u001b[0;36mget_value\u001b[1;34m(self, series, key)\u001b[0m\n\u001b[0;32m   3101\u001b[0m         \u001b[1;32mtry\u001b[0m\u001b[1;33m:\u001b[0m\u001b[1;33m\u001b[0m\u001b[0m\n\u001b[0;32m   3102\u001b[0m             return self._engine.get_value(s, k,\n\u001b[1;32m-> 3103\u001b[1;33m                                           tz=getattr(series.dtype, 'tz', None))\n\u001b[0m\u001b[0;32m   3104\u001b[0m         \u001b[1;32mexcept\u001b[0m \u001b[0mKeyError\u001b[0m \u001b[1;32mas\u001b[0m \u001b[0me1\u001b[0m\u001b[1;33m:\u001b[0m\u001b[1;33m\u001b[0m\u001b[0m\n\u001b[0;32m   3105\u001b[0m             \u001b[1;32mif\u001b[0m \u001b[0mlen\u001b[0m\u001b[1;33m(\u001b[0m\u001b[0mself\u001b[0m\u001b[1;33m)\u001b[0m \u001b[1;33m>\u001b[0m \u001b[1;36m0\u001b[0m \u001b[1;32mand\u001b[0m \u001b[0mself\u001b[0m\u001b[1;33m.\u001b[0m\u001b[0minferred_type\u001b[0m \u001b[1;32min\u001b[0m \u001b[1;33m[\u001b[0m\u001b[1;34m'integer'\u001b[0m\u001b[1;33m,\u001b[0m \u001b[1;34m'boolean'\u001b[0m\u001b[1;33m]\u001b[0m\u001b[1;33m:\u001b[0m\u001b[1;33m\u001b[0m\u001b[0m\n",
      "\u001b[1;32mpandas\\_libs\\index.pyx\u001b[0m in \u001b[0;36mpandas._libs.index.IndexEngine.get_value\u001b[1;34m()\u001b[0m\n",
      "\u001b[1;32mpandas\\_libs\\index.pyx\u001b[0m in \u001b[0;36mpandas._libs.index.IndexEngine.get_value\u001b[1;34m()\u001b[0m\n",
      "\u001b[1;32mpandas\\_libs\\index.pyx\u001b[0m in \u001b[0;36mpandas._libs.index.IndexEngine.get_loc\u001b[1;34m()\u001b[0m\n",
      "\u001b[1;32mpandas\\_libs\\hashtable_class_helper.pxi\u001b[0m in \u001b[0;36mpandas._libs.hashtable.Int64HashTable.get_item\u001b[1;34m()\u001b[0m\n",
      "\u001b[1;32mpandas\\_libs\\hashtable_class_helper.pxi\u001b[0m in \u001b[0;36mpandas._libs.hashtable.Int64HashTable.get_item\u001b[1;34m()\u001b[0m\n",
      "\u001b[1;31mKeyError\u001b[0m: 1314"
     ]
    }
   ],
   "source": [
    "x[1314]"
   ]
  },
  {
   "cell_type": "code",
   "execution_count": 166,
   "metadata": {},
   "outputs": [],
   "source": [
    "y=df[\"story_content\"]"
   ]
  },
  {
   "cell_type": "code",
   "execution_count": 168,
   "metadata": {},
   "outputs": [
    {
     "data": {
      "text/plain": [
       "2047"
      ]
     },
     "execution_count": 168,
     "metadata": {},
     "output_type": "execute_result"
    }
   ],
   "source": [
    "len(y)"
   ]
  },
  {
   "cell_type": "code",
   "execution_count": 146,
   "metadata": {},
   "outputs": [],
   "source": [
    "a=[1,2,3,4]"
   ]
  },
  {
   "cell_type": "code",
   "execution_count": 148,
   "metadata": {},
   "outputs": [
    {
     "data": {
      "text/plain": [
       "2"
      ]
     },
     "execution_count": 148,
     "metadata": {},
     "output_type": "execute_result"
    }
   ],
   "source": [
    "a.pop(1)"
   ]
  },
  {
   "cell_type": "code",
   "execution_count": 149,
   "metadata": {},
   "outputs": [
    {
     "data": {
      "text/plain": [
       "3"
      ]
     },
     "execution_count": 149,
     "metadata": {},
     "output_type": "execute_result"
    }
   ],
   "source": [
    "a[1]"
   ]
  },
  {
   "cell_type": "code",
   "execution_count": null,
   "metadata": {},
   "outputs": [],
   "source": []
  }
 ],
 "metadata": {
  "kernelspec": {
   "display_name": "Python 3",
   "language": "python",
   "name": "python3"
  },
  "language_info": {
   "codemirror_mode": {
    "name": "ipython",
    "version": 3
   },
   "file_extension": ".py",
   "mimetype": "text/x-python",
   "name": "python",
   "nbconvert_exporter": "python",
   "pygments_lexer": "ipython3",
   "version": "3.6.5"
  }
 },
 "nbformat": 4,
 "nbformat_minor": 2
}

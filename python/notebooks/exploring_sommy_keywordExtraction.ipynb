{
 "cells": [
  {
   "cell_type": "code",
   "execution_count": 2,
   "metadata": {},
   "outputs": [],
   "source": [
    "from summa import commons, graph, keywords, pagerank_weighted\n",
    "from summa import summarizer, syntactic_unit, textrank\n",
    "import csv\n",
    "import pandas as pd\n",
    "import re\n"
   ]
  },
  {
   "cell_type": "code",
   "execution_count": 3,
   "metadata": {},
   "outputs": [],
   "source": [
    "df=pd.read_csv(\"content.csv\",encoding='utf-8')"
   ]
  },
  {
   "cell_type": "code",
   "execution_count": 4,
   "metadata": {},
   "outputs": [
    {
     "data": {
      "text/plain": [
       "'여기 나무가 한그루 있습니다. 나무는 땅 위에 서 있습니다. 그리고 주변으로는 풀이 자라고 있습니다. 그리고 주변으로는 풀이 자라고 있습니다. 여기 나무가 한그루 있습니다. 나무는 땅 위에 서 있습니다. 나무의 뿌리는 땅 속에 있습니다. 그리고 주변으로는 풀이 자라고 있습니다. 그리고 주변으로는 풀이 자라고 있습니다. 여기 나무가 한그루 있습니다. 나무는 땅 위에 서 있습니다. 나무의 뿌리는 땅 속에 있습니다.\\xa0 토양은 뿌리를 덮고 있습니다. 그리고 주변으로는 풀이 자라고 있습니다. 그리고 주변으로는 풀이 자라고 있습니다. 여기 나무가 한그루 있습니다. 나무는 땅 위에 서 있습니다. 나무의 뿌리는 땅 속에 있습니다. 토양은 뿌리를 덮고 있습니다. 나무 기둥은 그 위에 우뚝 서 있습니다. 그리고 주변으로는 풀이 자라고 있습니다. 그리고 주변으로는 풀이 자라고 있습니다. 여기 나무가 한그루 있습니다. 나무는 땅 위에 서 있습니다. 나무의 뿌리는 땅 속에 있습니다. 토양은 뿌리를 덮고 있습니다. 나무 기둥은 그 위에 우뚝 서 있습니다. 그리고 나뭇가지들은 나무기둥에서 뻗어나갑니다. 그리고 주변으로는 풀이 자라고 있습니다. 그리고 주변으로는 풀이 자라고 있습니다. 여기 나무가 한그루 있습니다. 나무는 땅 위에 서 있습니다. 나무의 뿌리는 땅 속에 있습니다. 토양은 뿌리를 덮고 있습니다. 나무 기둥은 그 위에 우뚝 서 있습니다. 그리고 나뭇가지들은 나무기둥에서 뻗어나갑니다. 그리고 잎들은 나뭇가지에서 자라납니다. 그리고 주변으로는 풀이 자라고 있습니다. 그리고 주변으로는 풀이 자라고 있습니다. 여기 나무가 한그루 있습니다. 나무는 땅 위에 서 있습니다. 나무의 뿌리는 땅 속에 있습니다. 토양은 뿌리를 덮고 있습니다. 나무 기둥은 그 위에 우뚝 서 있습니다. 그리고 나뭇가지들은 나무기둥에서 뻗어나갑니다. 그리고 잎들은 나뭇가지에서 자라납니다. 그리고 꽃들이 잎 주변에서 피어납니다. 그리고 주변으로는 풀이 자라고 있습니다. 그리고 주변으로는 풀이 자라고 있습니다. 여기 나무가 한그루 있습니다. 나무는 땅 위에 서 있습니다. 나무의 뿌리는 땅 속에 있습니다. 토양은 뿌리를 덮고 있습니다. 나무 기둥은 그 위에 우뚝 서 있습니다. 그리고 나뭇가지들은 나무기둥에서 뻗어나갑니다. 그리고 잎들은 나뭇가지에서 자라납니다. 그리고 꽃들이 잎 주변에서 피어납니다. 그리고 꽃에서 열매가 자라납니다. 그리고 주변으로는 풀이 자라고 있습니다. 그리고 주변으로는 풀이 자라고 있습니다. 여기 나무가 한그루 있습니다. 나무는 땅 위에 서 있습니다. 나무의 뿌리는 땅 속에 있습니다. 토양은 뿌리를 덮고 있습니다. 나무 기둥은 그 위에 우뚝 서 있습니다. 그리고 나뭇가지들은 나무기둥에서 뻗어나갑니다. 그리고 잎들은 나뭇가지에서 자라납니다. 그리고 꽃들이 잎 주변에서 피어납니다. 그리고 꽃에서 열매가 자라납니다. 그리고 그 열매 속에는 씨앗이 있습니다. 그리고 주변으로는 풀이 자라고 있습니다. 그리고 주변으로는 풀이 자라고 있습니다. 머지않아... 씨앗에서 아주 작은 식물들이 자라납니다. 어느날 이 작은 식물들은 나무가 될 것입니다. 그리고 주변으로는 풀이 자라날 것입니다. 그리고 주변으로는 풀이 자라날 것입니다.'"
      ]
     },
     "execution_count": 4,
     "metadata": {},
     "output_type": "execute_result"
    }
   ],
   "source": [
    "#in order to view the story which is in korean\n",
    "df[\"story_content\"][1314]"
   ]
  },
  {
   "cell_type": "code",
   "execution_count": 5,
   "metadata": {},
   "outputs": [],
   "source": [
    "#this story id is actually written in korean so we needed to drop it\n",
    "df = df.drop(df[df.story_id == 18773].index)"
   ]
  },
  {
   "cell_type": "code",
   "execution_count": 6,
   "metadata": {},
   "outputs": [],
   "source": [
    "def remove_special_characters(text, remove_digits=False):\n",
    "    pattern = r'[^a-zA-z0-9\\s]' if not remove_digits else r'[^a-zA-z\\s]'\n",
    "    text = re.sub(pattern,'', text)\n",
    "    return text"
   ]
  },
  {
   "cell_type": "code",
   "execution_count": null,
   "metadata": {},
   "outputs": [],
   "source": [
    "#the purpose of running summy keywords.keywords in part wise wise was because there was some row which was returning an empty list"
   ]
  },
  {
   "cell_type": "code",
   "execution_count": null,
   "metadata": {},
   "outputs": [],
   "source": [
    "x1=[]"
   ]
  },
  {
   "cell_type": "code",
   "execution_count": null,
   "metadata": {},
   "outputs": [],
   "source": [
    "for item in x[0:1000]:\n",
    "    a1=remove_special_characters(item)\n",
    "    a=keywords.keywords(a1)\n",
    "    y=[s.strip() for s in a.splitlines()]\n",
    "    x1.append(y)"
   ]
  },
  {
   "cell_type": "code",
   "execution_count": null,
   "metadata": {},
   "outputs": [],
   "source": [
    "x2=[]"
   ]
  },
  {
   "cell_type": "code",
   "execution_count": null,
   "metadata": {},
   "outputs": [],
   "source": [
    "for item in x[1001:1300]:\n",
    "    a1=remove_special_characters(item)\n",
    "    a=keywords.keywords(a1)\n",
    "    y=[s.strip() for s in a.splitlines()]\n",
    "    y1=pd.Series()\n",
    "    x2.append(y)"
   ]
  },
  {
   "cell_type": "code",
   "execution_count": null,
   "metadata": {},
   "outputs": [],
   "source": [
    "x21=[]\n",
    "for item in x[1301:1307]:\n",
    "    a1=remove_special_characters(item)\n",
    "    a=keywords.keywords(a1)\n",
    "    y=[s.strip() for s in a.splitlines()]\n",
    "    x21.append(y)"
   ]
  },
  {
   "cell_type": "code",
   "execution_count": null,
   "metadata": {},
   "outputs": [],
   "source": [
    "x22=[]\n",
    "for item in x[1315:1349]:\n",
    "    a1=remove_special_characters(item)\n",
    "    a=keywords.keywords(a1)\n",
    "    y=[s.strip() for s in a.splitlines()]\n",
    "    y1=pd.Series()\n",
    "    x22.append(y)"
   ]
  },
  {
   "cell_type": "code",
   "execution_count": null,
   "metadata": {},
   "outputs": [],
   "source": [
    "x3=[]"
   ]
  },
  {
   "cell_type": "code",
   "execution_count": null,
   "metadata": {},
   "outputs": [],
   "source": [
    "for item in x[1350:2047]:\n",
    "    a1=remove_special_characters(item)\n",
    "    a=keywords.keywords(a1)\n",
    "    y=[s.strip() for s in a.splitlines()]\n",
    "    x3.append(y)"
   ]
  }
 ],
 "metadata": {
  "kernelspec": {
   "display_name": "Python 3",
   "language": "python",
   "name": "python3"
  },
  "language_info": {
   "codemirror_mode": {
    "name": "ipython",
    "version": 3
   },
   "file_extension": ".py",
   "mimetype": "text/x-python",
   "name": "python",
   "nbconvert_exporter": "python",
   "pygments_lexer": "ipython3",
   "version": "3.6.5"
  }
 },
 "nbformat": 4,
 "nbformat_minor": 2
}

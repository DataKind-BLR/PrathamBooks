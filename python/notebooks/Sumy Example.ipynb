{
 "cells": [
  {
   "cell_type": "code",
   "execution_count": 15,
   "metadata": {},
   "outputs": [],
   "source": [
    "from sumy.parsers.plaintext import PlaintextParser\n",
    "from sumy.nlp.tokenizers import Tokenizer\n",
    "from sumy.summarizers.luhn import LuhnSummarizer\n",
    "from sumy.summarizers.text_rank import TextRankSummarizer\n",
    "from sumy.summarizers.lsa import LsaSummarizer\n",
    "from sumy.summarizers.edmundson import EdmundsonSummarizer\n",
    "from sumy.summarizers.lex_rank import LexRankSummarizer\n",
    "from sumy.summarizers.sum_basic import SumBasicSummarizer\n",
    "from sumy.summarizers.kl import KLSummarizer\n",
    "from sumy.nlp.stemmers import Stemmer\n",
    "from sumy.utils import get_stop_words"
   ]
  },
  {
   "cell_type": "code",
   "execution_count": 2,
   "metadata": {},
   "outputs": [],
   "source": [
    "LANGUAGE = \"english\"\n",
    "SENTENCES_COUNT = 4"
   ]
  },
  {
   "cell_type": "code",
   "execution_count": 3,
   "metadata": {},
   "outputs": [],
   "source": [
    "parser = PlaintextParser.from_file(\"sampleText.txt\", Tokenizer(LANGUAGE))\n",
    "stemmer = Stemmer(LANGUAGE)"
   ]
  },
  {
   "cell_type": "code",
   "execution_count": 4,
   "metadata": {},
   "outputs": [
    {
     "name": "stdout",
     "output_type": "stream",
     "text": [
      "\n",
      "====== Luhn ======\n",
      "(<Sentence: This is a fat king.>, '\\n')\n",
      "(<Sentence: The fat king has a thin dog.>, '\\n')\n",
      "(<Sentence: The fat king and his thin dog go for a walk.>, '\\n')\n",
      "(<Sentence: Now the fat king is thin.>, '\\n')\n"
     ]
    }
   ],
   "source": [
    "print(\"\\n====== Luhn ======\")\n",
    "summarizerLuhn = LuhnSummarizer(stemmer)\n",
    "summarizerLuhn.stop_words = get_stop_words(LANGUAGE)\n",
    "for sentenceLuhn in summarizerLuhn(parser.document, SENTENCES_COUNT):\n",
    "    print(sentenceLuhn, \"\\n\")"
   ]
  },
  {
   "cell_type": "code",
   "execution_count": 5,
   "metadata": {},
   "outputs": [
    {
     "name": "stdout",
     "output_type": "stream",
     "text": [
      "====== TextRank ======\n",
      "(<Sentence: The fat king has a thin dog.>, '\\n')\n",
      "(<Sentence: The fat king and his thin dog go for a walk.>, '\\n')\n",
      "(<Sentence: The dog runs after the bird.>, '\\n')\n",
      "(<Sentence: The king runs after the dog.>, '\\n')\n"
     ]
    }
   ],
   "source": [
    "print(\"====== TextRank ======\")\n",
    "summarizerTR = TextRankSummarizer(stemmer)\n",
    "summarizerTR.stop_words = get_stop_words(LANGUAGE)\n",
    "for sentenceTR in summarizerTR(parser.document, SENTENCES_COUNT):\n",
    "    print(sentenceTR, \"\\n\")"
   ]
  },
  {
   "cell_type": "code",
   "execution_count": 6,
   "metadata": {
    "scrolled": true
   },
   "outputs": [
    {
     "name": "stdout",
     "output_type": "stream",
     "text": [
      "====== LSA ======\n",
      "(<Sentence: The fat king has a thin dog.>, '\\n')\n",
      "(<Sentence: The fat king and his thin dog go for a walk.>, '\\n')\n",
      "(<Sentence: The king catches the dog.>, '\\n')\n",
      "(<Sentence: Now the fat king is thin.>, '\\n')\n"
     ]
    }
   ],
   "source": [
    "print(\"====== LSA ======\")\n",
    "summarizerLSA = LsaSummarizer(stemmer)\n",
    "summarizerLSA.stop_words = get_stop_words(LANGUAGE)\n",
    "for sentenceLSA in summarizerLSA(parser.document, SENTENCES_COUNT):\n",
    "    print(sentenceLSA, \"\\n\")"
   ]
  },
  {
   "cell_type": "code",
   "execution_count": 7,
   "metadata": {},
   "outputs": [
    {
     "name": "stdout",
     "output_type": "stream",
     "text": [
      "====== Edmonson ======\n",
      "(<Sentence: This is a fat king.>, '\\n')\n",
      "(<Sentence: The dog runs after the bird.>, '\\n')\n",
      "(<Sentence: The king runs after the dog.>, '\\n')\n",
      "(<Sentence: Now the fat king is thin.>, '\\n')\n"
     ]
    }
   ],
   "source": [
    "print(\"====== Edmonson ======\")\n",
    "summarizerEd = EdmundsonSummarizer(stemmer)\n",
    "summarizerEd.bonus_words = ('focus', 'proposed', 'method', 'describes')\n",
    "summarizerEd.stigma_words = ('example')\n",
    "summarizerEd.null_words = ('literature', 'however')\n",
    "for sentenceEd in summarizerEd(parser.document, SENTENCES_COUNT):\n",
    "    print(sentenceEd, \"\\n\")"
   ]
  },
  {
   "cell_type": "code",
   "execution_count": 8,
   "metadata": {},
   "outputs": [
    {
     "name": "stdout",
     "output_type": "stream",
     "text": [
      "====== LexRank ======\n",
      "(<Sentence: This is a fat king.>, '\\n')\n",
      "(<Sentence: The fat king has a thin dog.>, '\\n')\n",
      "(<Sentence: The dog runs after the bird.>, '\\n')\n",
      "(<Sentence: The king runs after the dog.>, '\\n')\n"
     ]
    }
   ],
   "source": [
    "print(\"====== LexRank ======\")\n",
    "summarizerLR = LexRankSummarizer(stemmer)\n",
    "summarizerLR.stop_words = get_stop_words(LANGUAGE)\n",
    "for sentenceLR in summarizerLR(parser.document, SENTENCES_COUNT):\n",
    "    print(sentenceLR, \"\\n\")\n",
    "    "
   ]
  },
  {
   "cell_type": "code",
   "execution_count": 12,
   "metadata": {},
   "outputs": [
    {
     "name": "stdout",
     "output_type": "stream",
     "text": [
      "====== SumBasic ======\n",
      "(<Sentence: This is a fat king.>, '\\n')\n",
      "(<Sentence: The dog runs after the bird.>, '\\n')\n",
      "(<Sentence: They run and run.>, '\\n')\n",
      "(<Sentence: Now the fat king is thin.>, '\\n')\n"
     ]
    }
   ],
   "source": [
    "print(\"====== SumBasic ======\")\n",
    "summarizerSBS = SumBasicSummarizer(stemmer)\n",
    "summarizerSBS.stop_words = get_stop_words(LANGUAGE)\n",
    "for sentenceSBS in summarizerSBS(parser.document, SENTENCES_COUNT):\n",
    "    print(sentenceSBS, \"\\n\")\n",
    "    "
   ]
  },
  {
   "cell_type": "code",
   "execution_count": 14,
   "metadata": {},
   "outputs": [
    {
     "name": "stdout",
     "output_type": "stream",
     "text": [
      "====== KL-Sum ======\n",
      "(<Sentence: This is a fat king.>, '\\n')\n",
      "(<Sentence: They run and run.>, '\\n')\n",
      "(<Sentence: They run and run for many days.>, '\\n')\n",
      "(<Sentence: Now the fat king is thin.>, '\\n')\n"
     ]
    }
   ],
   "source": [
    "print(\"====== KL-Sum ======\")\n",
    "summarizerKL = KLSummarizer(stemmer)\n",
    "summarizerKL.stop_words = get_stop_words(LANGUAGE)\n",
    "for sentenceKL in summarizerKL(parser.document, SENTENCES_COUNT):\n",
    "    print(sentenceKL, \"\\n\")\n",
    "    "
   ]
  },
  {
   "cell_type": "code",
   "execution_count": null,
   "metadata": {},
   "outputs": [],
   "source": []
  }
 ],
 "metadata": {
  "kernelspec": {
   "display_name": "Python 2",
   "language": "python",
   "name": "python2"
  },
  "language_info": {
   "codemirror_mode": {
    "name": "ipython",
    "version": 2
   },
   "file_extension": ".py",
   "mimetype": "text/x-python",
   "name": "python",
   "nbconvert_exporter": "python",
   "pygments_lexer": "ipython2",
   "version": "2.7.14"
  }
 },
 "nbformat": 4,
 "nbformat_minor": 2
}

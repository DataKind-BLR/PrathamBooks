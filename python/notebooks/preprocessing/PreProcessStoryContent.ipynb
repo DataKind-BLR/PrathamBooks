{
 "cells": [
  {
   "cell_type": "markdown",
   "metadata": {},
   "source": [
    "### This notebook can be used to pre-process the story content.\n",
    "\n",
    "This notebook reuses code from the book \"Practical Machine Learning with Python\". The code is available in the follwoing repository (licensed unde Apache 2.0):\n",
    "\n",
    "https://github.com/dipanjanS/practical-machine-learning-with-python"
   ]
  },
  {
   "cell_type": "code",
   "execution_count": 1,
   "metadata": {},
   "outputs": [
    {
     "name": "stderr",
     "output_type": "stream",
     "text": [
      "/home/arnabb/anaconda3/envs/pb/lib/python3.7/importlib/_bootstrap.py:219: RuntimeWarning: numpy.dtype size changed, may indicate binary incompatibility. Expected 96, got 88\n",
      "  return f(*args, **kwds)\n",
      "/home/arnabb/anaconda3/envs/pb/lib/python3.7/importlib/_bootstrap.py:219: RuntimeWarning: numpy.ufunc size changed, may indicate binary incompatibility. Expected 192, got 176\n",
      "  return f(*args, **kwds)\n",
      "/home/arnabb/anaconda3/envs/pb/lib/python3.7/importlib/_bootstrap.py:219: RuntimeWarning: numpy.dtype size changed, may indicate binary incompatibility. Expected 96, got 88\n",
      "  return f(*args, **kwds)\n",
      "/home/arnabb/anaconda3/envs/pb/lib/python3.7/importlib/_bootstrap.py:219: RuntimeWarning: numpy.ufunc size changed, may indicate binary incompatibility. Expected 192, got 176\n",
      "  return f(*args, **kwds)\n"
     ]
    }
   ],
   "source": [
    "import pandas as pd\n",
    "import unicodedata\n",
    "import re\n",
    "import spacy\n",
    "import nltk\n",
    "from nltk.tokenize.toktok import ToktokTokenizer\n",
    "from bs4 import BeautifulSoup\n",
    "\n",
    "from contractions import CONTRACTION_MAP\n",
    "\n",
    "pd.options.display.max_colwidth = 1000"
   ]
  },
  {
   "cell_type": "code",
   "execution_count": 2,
   "metadata": {},
   "outputs": [
    {
     "name": "stderr",
     "output_type": "stream",
     "text": [
      "/home/arnabb/anaconda3/envs/pb/lib/python3.7/importlib/_bootstrap.py:219: RuntimeWarning: numpy.dtype size changed, may indicate binary incompatibility. Expected 96, got 88\n",
      "  return f(*args, **kwds)\n",
      "/home/arnabb/anaconda3/envs/pb/lib/python3.7/importlib/_bootstrap.py:219: RuntimeWarning: numpy.ufunc size changed, may indicate binary incompatibility. Expected 192, got 176\n",
      "  return f(*args, **kwds)\n"
     ]
    }
   ],
   "source": [
    "nlp = spacy.load('en', parse = True, tag=True, entity=True)\n",
    "\n",
    "tokenizer = ToktokTokenizer()\n",
    "stopword_list = nltk.corpus.stopwords.words('english')\n",
    "stopword_list.remove('no')\n",
    "stopword_list.remove('not')"
   ]
  },
  {
   "cell_type": "code",
   "execution_count": 3,
   "metadata": {},
   "outputs": [],
   "source": [
    "# Location of the stories file\n",
    "ENGLISH_CSV_FILE = \"/home/arnabb/vssexclude/d_s/PrathamBooks/PrathamBooks-Sprint-2018/data/gen_by_script/stories_content_english.csv\""
   ]
  },
  {
   "cell_type": "code",
   "execution_count": 4,
   "metadata": {},
   "outputs": [],
   "source": [
    "df_english_stories = pd.read_csv(ENGLISH_CSV_FILE)"
   ]
  },
  {
   "cell_type": "code",
   "execution_count": 5,
   "metadata": {},
   "outputs": [
    {
     "data": {
      "text/plain": [
       "Index(['story_id', 'story_title', 'story_english_title',\n",
       "       'is_child_created_story', 'stories_status', 'stories_summary',\n",
       "       'ancestry', 'is_recommended_story', 'reads', 'language_name',\n",
       "       'organization_name', 'page_type', 'story_derivation_type',\n",
       "       'story_publishing_type', 'reading_level_cat', 'story_content'],\n",
       "      dtype='object')"
      ]
     },
     "execution_count": 5,
     "metadata": {},
     "output_type": "execute_result"
    }
   ],
   "source": [
    "df_english_stories.columns"
   ]
  },
  {
   "cell_type": "code",
   "execution_count": 6,
   "metadata": {},
   "outputs": [
    {
     "data": {
      "text/html": [
       "<div>\n",
       "<style scoped>\n",
       "    .dataframe tbody tr th:only-of-type {\n",
       "        vertical-align: middle;\n",
       "    }\n",
       "\n",
       "    .dataframe tbody tr th {\n",
       "        vertical-align: top;\n",
       "    }\n",
       "\n",
       "    .dataframe thead th {\n",
       "        text-align: right;\n",
       "    }\n",
       "</style>\n",
       "<table border=\"1\" class=\"dataframe\">\n",
       "  <thead>\n",
       "    <tr style=\"text-align: right;\">\n",
       "      <th></th>\n",
       "      <th>story_title</th>\n",
       "      <th>stories_summary</th>\n",
       "    </tr>\n",
       "  </thead>\n",
       "  <tbody>\n",
       "    <tr>\n",
       "      <th>0</th>\n",
       "      <td>Smile Please!</td>\n",
       "      <td>Follow the young deer as he races along with friends.</td>\n",
       "    </tr>\n",
       "    <tr>\n",
       "      <th>1</th>\n",
       "      <td>Fat King Thin Dog</td>\n",
       "      <td>Run along with the Fat King after the Thin Dog!</td>\n",
       "    </tr>\n",
       "    <tr>\n",
       "      <th>2</th>\n",
       "      <td>Vayu, the Wind</td>\n",
       "      <td>A nice story about this silent and always present friend, the wind does a lot of things without anybody's notice!</td>\n",
       "    </tr>\n",
       "    <tr>\n",
       "      <th>3</th>\n",
       "      <td>Chuskit Goes to School!</td>\n",
       "      <td>Nine year old Chuskit longed to go to school, to make friends, learn math and play games. But she could not... until Abdul decided to do something about it.</td>\n",
       "    </tr>\n",
       "    <tr>\n",
       "      <th>4</th>\n",
       "      <td>Not Now, Not Now!</td>\n",
       "      <td>The little boy in this story wants to do something now, but all his elders say NOT NOW! Do you get angry when someone says that to you?</td>\n",
       "    </tr>\n",
       "  </tbody>\n",
       "</table>\n",
       "</div>"
      ],
      "text/plain": [
       "               story_title  \\\n",
       "0            Smile Please!   \n",
       "1        Fat King Thin Dog   \n",
       "2           Vayu, the Wind   \n",
       "3  Chuskit Goes to School!   \n",
       "4        Not Now, Not Now!   \n",
       "\n",
       "                                                                                                                                                stories_summary  \n",
       "0                                                                                                         Follow the young deer as he races along with friends.  \n",
       "1                                                                                                               Run along with the Fat King after the Thin Dog!  \n",
       "2                                             A nice story about this silent and always present friend, the wind does a lot of things without anybody's notice!  \n",
       "3  Nine year old Chuskit longed to go to school, to make friends, learn math and play games. But she could not... until Abdul decided to do something about it.  \n",
       "4                       The little boy in this story wants to do something now, but all his elders say NOT NOW! Do you get angry when someone says that to you?  "
      ]
     },
     "execution_count": 6,
     "metadata": {},
     "output_type": "execute_result"
    }
   ],
   "source": [
    "# Check the summary for each story\n",
    "df_english_stories.iloc[0:5][['story_title', 'stories_summary']]"
   ]
  },
  {
   "cell_type": "code",
   "execution_count": 7,
   "metadata": {},
   "outputs": [
    {
     "data": {
      "text/html": [
       "<div>\n",
       "<style scoped>\n",
       "    .dataframe tbody tr th:only-of-type {\n",
       "        vertical-align: middle;\n",
       "    }\n",
       "\n",
       "    .dataframe tbody tr th {\n",
       "        vertical-align: top;\n",
       "    }\n",
       "\n",
       "    .dataframe thead th {\n",
       "        text-align: right;\n",
       "    }\n",
       "</style>\n",
       "<table border=\"1\" class=\"dataframe\">\n",
       "  <thead>\n",
       "    <tr style=\"text-align: right;\">\n",
       "      <th></th>\n",
       "      <th>story_title</th>\n",
       "      <th>story_content</th>\n",
       "    </tr>\n",
       "  </thead>\n",
       "  <tbody>\n",
       "    <tr>\n",
       "      <th>0</th>\n",
       "      <td>Smile Please!</td>\n",
       "      <td>A fawn was racing in the forest. He was ahead of the rabbit. He was ahead of the elephant. He leapt and cleared the stream. He ran past the crumbling wall. There was a large boulder on the grassy plain. He stumbled and fell down. He burst into tears. The monkey massaged his leg. Tears flowed from the fawn's eyes. Brother Bear picked him up. The fawn didn't stop crying. His mother came. She said, “Look, we’ll beat up this bad boulder!” The fawn said, “Oh, don’t do that or he will also start crying.” His mother laughed. So did the fawn.</td>\n",
       "    </tr>\n",
       "    <tr>\n",
       "      <th>1</th>\n",
       "      <td>Fat King Thin Dog</td>\n",
       "      <td>This is a fat king. The fat king has a thin dog. The fat king and his thin dog go for a walk. The dog sees a bird. The dog runs after the bird. The king runs after the dog. They run and run. They run and run for many days. The king catches the dog. Now the fat king is thin.</td>\n",
       "    </tr>\n",
       "    <tr>\n",
       "      <th>2</th>\n",
       "      <td>Vayu, the Wind</td>\n",
       "      <td>Everytime I finish my hot, hot bath, My wet body feels so cool, cool cool. Who makes that happen? Vayu the Wind! The milk in my cup is too hot, too hot. But soon it is ready for me to gulp. Who makes that happen? Vayu the Wind! The window curtains flutter And gently brush my face. Who makes it happen? Vayu, the Wind! A bolt of lightning far away. Black clouds moving my way. Who makes that happen? Vayu, the Wind! Branches sway and leaves tremble. Flowers gently fall. Who did it all? Vayu, the Wind! Far from the house, we are playing, Yet, I can smell the sweets mother is preparing. Who makes it happen? Vayu, the Wind! A glass tumbler on a window sill, Crashes on the ground. Thank God, I was not around. Who played this mischief? Of course, it was Vayu, the Wind! A whistle blows. A train rolls in. I cannot see, but I hear its din. Who makes that happen? Vayu, the Wind! Cannot be seen Cannot be heard Does all the work Without a word. Who can it be? Of course! The wind! Vayu, the wind!</td>\n",
       "    </tr>\n",
       "    <tr>\n",
       "      <th>3</th>\n",
       "      <td>Chuskit Goes to School!</td>\n",
       "      <td>Chuskit woke up early that morning. It was a very special day and she was too excited to sleep. She eagerly looked out of the room through the window next to her bed. It was spring time in Ladakh and the apricot trees were in full bloom. Two magpies had already begun their day and were busy looking for insects to eat. Her Ama-ley was awake too. She could hear her in the kitchen making gur-gur tea. Chuskit had been awake for the last hour. This was a day she was going to remember for a long time. Can you guess why? No, it was not Losar, the New Year festival. That was many months away. Nor was it any special day in her village, like the gonpa festival, or a wedding day. Today was going to be Chuskit's first day at school. At nine years, she had waited a long, long time for this. The school was not very far away from her home. To get there, you had to walk up to the main road. Just before the prayer wheel, you took the path to the left of the road that ran along a narrow stream. Near...</td>\n",
       "    </tr>\n",
       "    <tr>\n",
       "      <th>4</th>\n",
       "      <td>Not Now, Not Now!</td>\n",
       "      <td>I asked Ajji, “May I please have some laddoos?” “Not now, beta, maybe tomorrow.” But I did not want to wait till tomorrow. I asked Ajja, “May I go out to play with my friends?” “Not now, beta. Maybe after your nap?”But I did not want to wait till after my nap. I asked Ma, “May I wear these new clothes?” “Not now, beta, you can wear them when we go out.” But I did not want to wait till we went out. I asked Papa, “May I open that nice looking box?” “Not now, not now. You must wait.” But I did not want to wait any more. Why do big people always say, ‘Not now, not now’? That night, I went to sleep feeling angry. The next day, I woke up early and went into the kitchen. Ajji said, “You can eat these laddoos now.” Ajja said, “We can play cricket now.” Ma said, “You can wear these clothes now.” Papa said, “You can open this box now.” And they all said, “Happy birthday!”</td>\n",
       "    </tr>\n",
       "  </tbody>\n",
       "</table>\n",
       "</div>"
      ],
      "text/plain": [
       "               story_title  \\\n",
       "0            Smile Please!   \n",
       "1        Fat King Thin Dog   \n",
       "2           Vayu, the Wind   \n",
       "3  Chuskit Goes to School!   \n",
       "4        Not Now, Not Now!   \n",
       "\n",
       "                                                                                                                                                                                                                                                                                                                                                                                                                                                                                                                                                                                                                                                                                                                                                                                                                                                                                                                                                                                                                             story_content  \n",
       "0                                                                                                                                                                                                                                                                                                                                                                                                                                                                             A fawn was racing in the forest. He was ahead of the rabbit. He was ahead of the elephant. He leapt and cleared the stream. He ran past the crumbling wall. There was a large boulder on the grassy plain. He stumbled and fell down. He burst into tears. The monkey massaged his leg. Tears flowed from the fawn's eyes. Brother Bear picked him up. The fawn didn't stop crying. His mother came. She said, “Look, we’ll beat up this bad boulder!” The fawn said, “Oh, don’t do that or he will also start crying.” His mother laughed. So did the fawn.  \n",
       "1                                                                                                                                                                                                                                                                                                                                                                                                                                                                                                                                                                                                                                                                                                                                                       This is a fat king. The fat king has a thin dog. The fat king and his thin dog go for a walk. The dog sees a bird. The dog runs after the bird. The king runs after the dog. They run and run. They run and run for many days. The king catches the dog. Now the fat king is thin.  \n",
       "2      Everytime I finish my hot, hot bath, My wet body feels so cool, cool cool. Who makes that happen? Vayu the Wind! The milk in my cup is too hot, too hot. But soon it is ready for me to gulp. Who makes that happen? Vayu the Wind! The window curtains flutter And gently brush my face. Who makes it happen? Vayu, the Wind! A bolt of lightning far away. Black clouds moving my way. Who makes that happen? Vayu, the Wind! Branches sway and leaves tremble. Flowers gently fall. Who did it all? Vayu, the Wind! Far from the house, we are playing, Yet, I can smell the sweets mother is preparing. Who makes it happen? Vayu, the Wind! A glass tumbler on a window sill, Crashes on the ground. Thank God, I was not around. Who played this mischief? Of course, it was Vayu, the Wind! A whistle blows. A train rolls in. I cannot see, but I hear its din. Who makes that happen? Vayu, the Wind! Cannot be seen Cannot be heard Does all the work Without a word. Who can it be? Of course! The wind! Vayu, the wind!  \n",
       "3  Chuskit woke up early that morning. It was a very special day and she was too excited to sleep. She eagerly looked out of the room through the window next to her bed. It was spring time in Ladakh and the apricot trees were in full bloom. Two magpies had already begun their day and were busy looking for insects to eat. Her Ama-ley was awake too. She could hear her in the kitchen making gur-gur tea. Chuskit had been awake for the last hour. This was a day she was going to remember for a long time. Can you guess why? No, it was not Losar, the New Year festival. That was many months away. Nor was it any special day in her village, like the gonpa festival, or a wedding day. Today was going to be Chuskit's first day at school. At nine years, she had waited a long, long time for this. The school was not very far away from her home. To get there, you had to walk up to the main road. Just before the prayer wheel, you took the path to the left of the road that ran along a narrow stream. Near...  \n",
       "4                                                                                                                               I asked Ajji, “May I please have some laddoos?” “Not now, beta, maybe tomorrow.” But I did not want to wait till tomorrow. I asked Ajja, “May I go out to play with my friends?” “Not now, beta. Maybe after your nap?”But I did not want to wait till after my nap. I asked Ma, “May I wear these new clothes?” “Not now, beta, you can wear them when we go out.” But I did not want to wait till we went out. I asked Papa, “May I open that nice looking box?” “Not now, not now. You must wait.” But I did not want to wait any more. Why do big people always say, ‘Not now, not now’? That night, I went to sleep feeling angry. The next day, I woke up early and went into the kitchen. Ajji said, “You can eat these laddoos now.” Ajja said, “We can play cricket now.” Ma said, “You can wear these clothes now.” Papa said, “You can open this box now.” And they all said, “Happy birthday!”  "
      ]
     },
     "execution_count": 7,
     "metadata": {},
     "output_type": "execute_result"
    }
   ],
   "source": [
    "# Check the content of each story\n",
    "df_english_stories.iloc[0:5][['story_title', 'story_content']]"
   ]
  },
  {
   "cell_type": "code",
   "execution_count": 8,
   "metadata": {},
   "outputs": [],
   "source": [
    "# Merge both summary and content. \n",
    "df_english_stories['summary_and_content'] = df_english_stories['stories_summary'] + \" \" + df_english_stories['story_content']"
   ]
  },
  {
   "cell_type": "code",
   "execution_count": 9,
   "metadata": {},
   "outputs": [
    {
     "data": {
      "text/html": [
       "<div>\n",
       "<style scoped>\n",
       "    .dataframe tbody tr th:only-of-type {\n",
       "        vertical-align: middle;\n",
       "    }\n",
       "\n",
       "    .dataframe tbody tr th {\n",
       "        vertical-align: top;\n",
       "    }\n",
       "\n",
       "    .dataframe thead th {\n",
       "        text-align: right;\n",
       "    }\n",
       "</style>\n",
       "<table border=\"1\" class=\"dataframe\">\n",
       "  <thead>\n",
       "    <tr style=\"text-align: right;\">\n",
       "      <th></th>\n",
       "      <th>story_id</th>\n",
       "      <th>story_title</th>\n",
       "      <th>story_english_title</th>\n",
       "      <th>is_child_created_story</th>\n",
       "      <th>stories_status</th>\n",
       "      <th>stories_summary</th>\n",
       "      <th>ancestry</th>\n",
       "      <th>is_recommended_story</th>\n",
       "      <th>reads</th>\n",
       "      <th>language_name</th>\n",
       "      <th>organization_name</th>\n",
       "      <th>page_type</th>\n",
       "      <th>story_derivation_type</th>\n",
       "      <th>story_publishing_type</th>\n",
       "      <th>reading_level_cat</th>\n",
       "      <th>story_content</th>\n",
       "      <th>summary_and_content</th>\n",
       "    </tr>\n",
       "  </thead>\n",
       "  <tbody>\n",
       "    <tr>\n",
       "      <th>1311</th>\n",
       "      <td>18480</td>\n",
       "      <td>A man with a cat</td>\n",
       "      <td>NaN</td>\n",
       "      <td>t</td>\n",
       "      <td>1</td>\n",
       "      <td>A man with a cat.</td>\n",
       "      <td>NaN</td>\n",
       "      <td>f</td>\n",
       "      <td>37</td>\n",
       "      <td>English</td>\n",
       "      <td>NaN</td>\n",
       "      <td>StoryPage</td>\n",
       "      <td>Original</td>\n",
       "      <td>UGC Story</td>\n",
       "      <td>1</td>\n",
       "      <td>NaN</td>\n",
       "      <td>NaN</td>\n",
       "    </tr>\n",
       "  </tbody>\n",
       "</table>\n",
       "</div>"
      ],
      "text/plain": [
       "      story_id       story_title story_english_title is_child_created_story  \\\n",
       "1311     18480  A man with a cat                 NaN                      t   \n",
       "\n",
       "      stories_status    stories_summary  ancestry is_recommended_story  reads  \\\n",
       "1311               1  A man with a cat.       NaN                    f     37   \n",
       "\n",
       "     language_name organization_name  page_type story_derivation_type  \\\n",
       "1311       English               NaN  StoryPage              Original   \n",
       "\n",
       "     story_publishing_type  reading_level_cat story_content  \\\n",
       "1311             UGC Story                  1           NaN   \n",
       "\n",
       "     summary_and_content  \n",
       "1311                 NaN  "
      ]
     },
     "execution_count": 9,
     "metadata": {},
     "output_type": "execute_result"
    }
   ],
   "source": [
    "# There is one story with null content. Drop it.\n",
    "df_english_stories[df_english_stories['summary_and_content'].isnull()]"
   ]
  },
  {
   "cell_type": "code",
   "execution_count": 10,
   "metadata": {},
   "outputs": [],
   "source": [
    "df_english_stories.dropna(subset=['summary_and_content'], inplace=True)"
   ]
  },
  {
   "cell_type": "code",
   "execution_count": 11,
   "metadata": {},
   "outputs": [
    {
     "data": {
      "text/html": [
       "<div>\n",
       "<style scoped>\n",
       "    .dataframe tbody tr th:only-of-type {\n",
       "        vertical-align: middle;\n",
       "    }\n",
       "\n",
       "    .dataframe tbody tr th {\n",
       "        vertical-align: top;\n",
       "    }\n",
       "\n",
       "    .dataframe thead th {\n",
       "        text-align: right;\n",
       "    }\n",
       "</style>\n",
       "<table border=\"1\" class=\"dataframe\">\n",
       "  <thead>\n",
       "    <tr style=\"text-align: right;\">\n",
       "      <th></th>\n",
       "      <th>story_id</th>\n",
       "      <th>story_title</th>\n",
       "      <th>story_english_title</th>\n",
       "      <th>is_child_created_story</th>\n",
       "      <th>stories_status</th>\n",
       "      <th>stories_summary</th>\n",
       "      <th>ancestry</th>\n",
       "      <th>is_recommended_story</th>\n",
       "      <th>reads</th>\n",
       "      <th>language_name</th>\n",
       "      <th>organization_name</th>\n",
       "      <th>page_type</th>\n",
       "      <th>story_derivation_type</th>\n",
       "      <th>story_publishing_type</th>\n",
       "      <th>reading_level_cat</th>\n",
       "      <th>story_content</th>\n",
       "      <th>summary_and_content</th>\n",
       "    </tr>\n",
       "  </thead>\n",
       "  <tbody>\n",
       "    <tr>\n",
       "      <th>0</th>\n",
       "      <td>2</td>\n",
       "      <td>Smile Please!</td>\n",
       "      <td>Smile Please!</td>\n",
       "      <td>f</td>\n",
       "      <td>1</td>\n",
       "      <td>Follow the young deer as he races along with friends.</td>\n",
       "      <td>1.0</td>\n",
       "      <td>t</td>\n",
       "      <td>13981</td>\n",
       "      <td>English</td>\n",
       "      <td>Pratham Books</td>\n",
       "      <td>StoryPage</td>\n",
       "      <td>Translated</td>\n",
       "      <td>Publisher Story</td>\n",
       "      <td>1</td>\n",
       "      <td>A fawn was racing in the forest. He was ahead of the rabbit. He was ahead of the elephant. He leapt and cleared the stream. He ran past the crumbling wall. There was a large boulder on the grassy plain. He stumbled and fell down. He burst into tears. The monkey massaged his leg. Tears flowed from the fawn's eyes. Brother Bear picked him up. The fawn didn't stop crying. His mother came. She said, “Look, we’ll beat up this bad boulder!” The fawn said, “Oh, don’t do that or he will also start crying.” His mother laughed. So did the fawn.</td>\n",
       "      <td>Follow the young deer as he races along with friends. A fawn was racing in the forest. He was ahead of the rabbit. He was ahead of the elephant. He leapt and cleared the stream. He ran past the crumbling wall. There was a large boulder on the grassy plain. He stumbled and fell down. He burst into tears. The monkey massaged his leg. Tears flowed from the fawn's eyes. Brother Bear picked him up. The fawn didn't stop crying. His mother came. She said, “Look, we’ll beat up this bad boulder!” The fawn said, “Oh, don’t do that or he will also start crying.” His mother laughed. So did the fawn.</td>\n",
       "    </tr>\n",
       "  </tbody>\n",
       "</table>\n",
       "</div>"
      ],
      "text/plain": [
       "   story_id    story_title story_english_title is_child_created_story  \\\n",
       "0         2  Smile Please!       Smile Please!                      f   \n",
       "\n",
       "   stories_status                                        stories_summary  \\\n",
       "0               1  Follow the young deer as he races along with friends.   \n",
       "\n",
       "   ancestry is_recommended_story  reads language_name organization_name  \\\n",
       "0       1.0                    t  13981       English     Pratham Books   \n",
       "\n",
       "   page_type story_derivation_type story_publishing_type  reading_level_cat  \\\n",
       "0  StoryPage            Translated       Publisher Story                  1   \n",
       "\n",
       "                                                                                                                                                                                                                                                                                                                                                                                                                                                                                                                                                  story_content  \\\n",
       "0  A fawn was racing in the forest. He was ahead of the rabbit. He was ahead of the elephant. He leapt and cleared the stream. He ran past the crumbling wall. There was a large boulder on the grassy plain. He stumbled and fell down. He burst into tears. The monkey massaged his leg. Tears flowed from the fawn's eyes. Brother Bear picked him up. The fawn didn't stop crying. His mother came. She said, “Look, we’ll beat up this bad boulder!” The fawn said, “Oh, don’t do that or he will also start crying.” His mother laughed. So did the fawn.   \n",
       "\n",
       "                                                                                                                                                                                                                                                                                                                                                                                                                                                                                                                                                                                                  summary_and_content  \n",
       "0  Follow the young deer as he races along with friends. A fawn was racing in the forest. He was ahead of the rabbit. He was ahead of the elephant. He leapt and cleared the stream. He ran past the crumbling wall. There was a large boulder on the grassy plain. He stumbled and fell down. He burst into tears. The monkey massaged his leg. Tears flowed from the fawn's eyes. Brother Bear picked him up. The fawn didn't stop crying. His mother came. She said, “Look, we’ll beat up this bad boulder!” The fawn said, “Oh, don’t do that or he will also start crying.” His mother laughed. So did the fawn.  "
      ]
     },
     "execution_count": 11,
     "metadata": {},
     "output_type": "execute_result"
    }
   ],
   "source": [
    "df_english_stories.head(1)"
   ]
  },
  {
   "cell_type": "markdown",
   "metadata": {},
   "source": [
    "### Following are a set of utility functions which is used to clean the text"
   ]
  },
  {
   "cell_type": "code",
   "execution_count": 12,
   "metadata": {},
   "outputs": [
    {
     "data": {
      "text/plain": [
       "'Some important text'"
      ]
     },
     "execution_count": 12,
     "metadata": {},
     "output_type": "execute_result"
    }
   ],
   "source": [
    "def strip_html_tags(text):\n",
    "    '''\n",
    "    Strip HTML tags\n",
    "    '''\n",
    "    soup = BeautifulSoup(text, \"html.parser\")\n",
    "    stripped_text = soup.get_text()\n",
    "    return stripped_text\n",
    "\n",
    "strip_html_tags('<html><h2>Some important text</h2></html>')"
   ]
  },
  {
   "cell_type": "code",
   "execution_count": 13,
   "metadata": {},
   "outputs": [
    {
     "data": {
      "text/plain": [
       "'Some Accented text'"
      ]
     },
     "execution_count": 13,
     "metadata": {},
     "output_type": "execute_result"
    }
   ],
   "source": [
    "# Remove accented characters\n",
    "def remove_accented_chars(text):\n",
    "    '''\n",
    "    Remove accented characters\n",
    "    '''\n",
    "    text = unicodedata.normalize('NFKD', text).encode('ascii', 'ignore').decode('utf-8', 'ignore')\n",
    "    return text\n",
    "\n",
    "remove_accented_chars('Sómě Áccěntěd těxt')"
   ]
  },
  {
   "cell_type": "code",
   "execution_count": 14,
   "metadata": {},
   "outputs": [
    {
     "data": {
      "text/plain": [
       "'You all cannot expand contractions I would think'"
      ]
     },
     "execution_count": 14,
     "metadata": {},
     "output_type": "execute_result"
    }
   ],
   "source": [
    "# Expand contractions\n",
    "def expand_contractions(text, contraction_mapping=CONTRACTION_MAP):\n",
    "    \n",
    "    contractions_pattern = re.compile('({})'.format('|'.join(contraction_mapping.keys())), \n",
    "                                      flags=re.IGNORECASE|re.DOTALL)\n",
    "    def expand_match(contraction):\n",
    "        match = contraction.group(0)\n",
    "        first_char = match[0]\n",
    "        expanded_contraction = contraction_mapping.get(match)\\\n",
    "                                if contraction_mapping.get(match)\\\n",
    "                                else contraction_mapping.get(match.lower())                       \n",
    "        expanded_contraction = first_char+expanded_contraction[1:]\n",
    "        return expanded_contraction\n",
    "        \n",
    "    expanded_text = contractions_pattern.sub(expand_match, text)\n",
    "    expanded_text = re.sub(\"'\", \"\", expanded_text)\n",
    "    return expanded_text\n",
    "\n",
    "expand_contractions(\"Y'all can't expand contractions I'd think\")"
   ]
  },
  {
   "cell_type": "code",
   "execution_count": 15,
   "metadata": {},
   "outputs": [
    {
     "data": {
      "text/plain": [
       "'Well this was fun What do you think '"
      ]
     },
     "execution_count": 15,
     "metadata": {},
     "output_type": "execute_result"
    }
   ],
   "source": [
    "# Remove special characters\n",
    "def remove_special_characters(text, remove_digits=False):\n",
    "    pattern = r'[^a-zA-z0-9\\s]' if not remove_digits else r'[^a-zA-z\\s]'\n",
    "    text = re.sub(pattern, '', text)\n",
    "    return text\n",
    "\n",
    "remove_special_characters(\"Well this was fun! What do you think? 123#@!\", \n",
    "                          remove_digits=True)"
   ]
  },
  {
   "cell_type": "code",
   "execution_count": 16,
   "metadata": {},
   "outputs": [
    {
     "data": {
      "text/plain": [
       "'My system keep crash ! his crashed yesterday , ours crash daily'"
      ]
     },
     "execution_count": 16,
     "metadata": {},
     "output_type": "execute_result"
    }
   ],
   "source": [
    "# Text lemmatization\n",
    "def lemmatize_text(text):\n",
    "    text = nlp(text)\n",
    "    text = ' '.join([word.lemma_ if word.lemma_ != '-PRON-' else word.text for word in text])\n",
    "    return text\n",
    "\n",
    "lemmatize_text(\"My system keeps crashing! his crashed yesterday, ours crashes daily\")"
   ]
  },
  {
   "cell_type": "code",
   "execution_count": 17,
   "metadata": {},
   "outputs": [
    {
     "data": {
      "text/plain": [
       "'My system keep crash hi crash yesterday, our crash daili'"
      ]
     },
     "execution_count": 17,
     "metadata": {},
     "output_type": "execute_result"
    }
   ],
   "source": [
    "# Text stemming\n",
    "def simple_stemmer(text):\n",
    "    ps = nltk.porter.PorterStemmer()\n",
    "    text = ' '.join([ps.stem(word) for word in text.split()])\n",
    "    return text\n",
    "\n",
    "simple_stemmer(\"My system keeps crashing his crashed yesterday, ours crashes daily\")"
   ]
  },
  {
   "cell_type": "code",
   "execution_count": 18,
   "metadata": {},
   "outputs": [
    {
     "data": {
      "text/plain": [
       "', , stopwords , computer not'"
      ]
     },
     "execution_count": 18,
     "metadata": {},
     "output_type": "execute_result"
    }
   ],
   "source": [
    "# Remove Stop words\n",
    "def remove_stopwords(text, is_lower_case=False):\n",
    "    tokens = tokenizer.tokenize(text)\n",
    "    tokens = [token.strip() for token in tokens]\n",
    "    if is_lower_case:\n",
    "        filtered_tokens = [token for token in tokens if token not in stopword_list]\n",
    "    else:\n",
    "        filtered_tokens = [token for token in tokens if token.lower() not in stopword_list]\n",
    "    filtered_text = ' '.join(filtered_tokens)    \n",
    "    return filtered_text\n",
    "\n",
    "remove_stopwords(\"The, and, if are stopwords, computer is not\")"
   ]
  },
  {
   "cell_type": "code",
   "execution_count": 19,
   "metadata": {},
   "outputs": [],
   "source": [
    "def normalize_corpus(corpus, html_stripping=True, contraction_expansion=True,\n",
    "                     accented_char_removal=True, text_lower_case=True, \n",
    "                     text_lemmatization=True, special_char_removal=True, \n",
    "                     stopword_removal=True, remove_digits=True):\n",
    "    '''\n",
    "    Utility function to pre-process the text\n",
    "    '''\n",
    "    try:\n",
    "        doc = corpus\n",
    "        # strip HTML\n",
    "        if html_stripping:\n",
    "            doc = strip_html_tags(doc)\n",
    "        # remove accented characters\n",
    "        if accented_char_removal:\n",
    "            doc = remove_accented_chars(doc)\n",
    "        # expand contractions    \n",
    "        if contraction_expansion:\n",
    "            doc = expand_contractions(doc)\n",
    "        # lowercase the text    \n",
    "        if text_lower_case:\n",
    "            doc = doc.lower()\n",
    "        # remove extra newlines\n",
    "        doc = re.sub(r'[\\r|\\n|\\r\\n]+', ' ',doc)\n",
    "        # lemmatize text\n",
    "        if text_lemmatization:\n",
    "            doc = lemmatize_text(doc)\n",
    "        # remove special characters and\\or digits    \n",
    "        if special_char_removal:\n",
    "            # insert spaces between special characters to isolate them    \n",
    "            special_char_pattern = re.compile(r'([{.(-)!}])')\n",
    "            doc = special_char_pattern.sub(\" \\\\1 \", doc)\n",
    "            doc = remove_special_characters(doc, remove_digits=remove_digits)  \n",
    "        # remove extra whitespace\n",
    "        doc = re.sub(' +', ' ', doc)\n",
    "        # remove stopwords\n",
    "        if stopword_removal:\n",
    "            doc = remove_stopwords(doc, is_lower_case=text_lower_case)\n",
    "    except:\n",
    "        print(corpus)\n",
    "        \n",
    "    return doc"
   ]
  },
  {
   "cell_type": "code",
   "execution_count": 20,
   "metadata": {},
   "outputs": [
    {
     "data": {
      "text/plain": [
       "\"Follow the young deer as he races along with friends. A fawn was racing in the forest. He was ahead of the rabbit. He was ahead of the elephant. He leapt and cleared the stream. He ran past the crumbling wall. There was a large boulder on the grassy plain. He stumbled and fell down. He burst into tears. The monkey massaged his leg. Tears flowed from the fawn's eyes. Brother Bear picked him up. The fawn didn't stop crying. His mother came. She said, “Look, we’ll beat up this bad boulder!” The fawn said, “Oh, don’t do that or he will also start crying.” His mother laughed. So did the fawn.\""
      ]
     },
     "execution_count": 20,
     "metadata": {},
     "output_type": "execute_result"
    }
   ],
   "source": [
    "# Check the original content\n",
    "df_english_stories.iloc[0]['summary_and_content']"
   ]
  },
  {
   "cell_type": "code",
   "execution_count": 21,
   "metadata": {},
   "outputs": [
    {
     "data": {
      "text/plain": [
       "'follow young deer race along friend fawn race forest ahead rabbit ahead elephant leap clear stream run past crumble wall large boulder grassy plain stumble fall burst tear monkey massage leg tear flow fawn eye brother bear pick fawn not stop cry mother come say look well beat bad boulder fawn say oh not also start cry mother laugh fawn'"
      ]
     },
     "execution_count": 21,
     "metadata": {},
     "output_type": "execute_result"
    }
   ],
   "source": [
    "# Check the normalized content\n",
    "normalize_corpus(df_english_stories.iloc[0]['summary_and_content'])"
   ]
  },
  {
   "cell_type": "code",
   "execution_count": 22,
   "metadata": {},
   "outputs": [],
   "source": [
    "# Generate the normalized/pre-processed content for all the stories\n",
    "df_english_stories['preprocessed_story_content'] = df_english_stories.summary_and_content.apply(lambda x : normalize_corpus(x))"
   ]
  },
  {
   "cell_type": "code",
   "execution_count": 24,
   "metadata": {},
   "outputs": [
    {
     "data": {
      "text/plain": [
       "'follow young deer race along friend fawn race forest ahead rabbit ahead elephant leap clear stream run past crumble wall large boulder grassy plain stumble fall burst tear monkey massage leg tear flow fawn eye brother bear pick fawn not stop cry mother come say look well beat bad boulder fawn say oh not also start cry mother laugh fawn'"
      ]
     },
     "execution_count": 24,
     "metadata": {},
     "output_type": "execute_result"
    }
   ],
   "source": [
    "# Check the content the column clean_story_content\n",
    "df_english_stories['preprocessed_story_content'][0]"
   ]
  },
  {
   "cell_type": "code",
   "execution_count": 25,
   "metadata": {},
   "outputs": [],
   "source": [
    "# Remove the summary_and_content and content column. This may not be needed.\n",
    "df_english_stories = df_english_stories.drop(labels=['summary_and_content'], axis='columns')"
   ]
  },
  {
   "cell_type": "code",
   "execution_count": 26,
   "metadata": {},
   "outputs": [],
   "source": [
    "df_english_stories.to_csv(\"stories_pre_processed_content_english.csv\", sep=\",\")"
   ]
  },
  {
   "cell_type": "code",
   "execution_count": null,
   "metadata": {},
   "outputs": [],
   "source": []
  }
 ],
 "metadata": {
  "kernelspec": {
   "display_name": "Python 3",
   "language": "python",
   "name": "python3"
  },
  "language_info": {
   "codemirror_mode": {
    "name": "ipython",
    "version": 3
   },
   "file_extension": ".py",
   "mimetype": "text/x-python",
   "name": "python",
   "nbconvert_exporter": "python",
   "pygments_lexer": "ipython3",
   "version": "3.7.0"
  }
 },
 "nbformat": 4,
 "nbformat_minor": 2
}
